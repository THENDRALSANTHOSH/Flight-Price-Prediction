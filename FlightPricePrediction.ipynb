{
 "cells": [
  {
   "cell_type": "markdown",
   "id": "5d6cbde7",
   "metadata": {},
   "source": [
    "##    FLIGHT PRICE PREDICTION"
   ]
  },
  {
   "cell_type": "markdown",
   "id": "a3f58d71",
   "metadata": {},
   "source": [
    "#### Problem Statement\n",
    "- Flight ticket prices can be something that is  hard to guess, today we might see a price, check out the price of the same flight tomorrow, it will be a different story. \n",
    "- We might have often heard travelers saying that flight ticket prices are so unpredictable. \n",
    "- That’s why we will try to use machine learning to solve this problem. \n",
    "- This can help airlines by predicting what prices they can maintain. \n"
   ]
  },
  {
   "cell_type": "raw",
   "id": "e8367efc",
   "metadata": {},
   "source": [
    "Importing necessary libraries"
   ]
  },
  {
   "cell_type": "code",
   "execution_count": 1,
   "id": "cc9167ac",
   "metadata": {},
   "outputs": [],
   "source": [
    "import pandas as pd\n",
    "import numpy as np\n",
    "import matplotlib.pyplot as plt\n",
    "%matplotlib inline\n",
    "import seaborn as sns"
   ]
  },
  {
   "cell_type": "markdown",
   "id": "32089263",
   "metadata": {},
   "source": [
    "**Loading the Flight Fare Data**"
   ]
  },
  {
   "cell_type": "code",
   "execution_count": 2,
   "id": "1e327119",
   "metadata": {},
   "outputs": [
    {
     "data": {
      "text/html": [
       "<div>\n",
       "<style scoped>\n",
       "    .dataframe tbody tr th:only-of-type {\n",
       "        vertical-align: middle;\n",
       "    }\n",
       "\n",
       "    .dataframe tbody tr th {\n",
       "        vertical-align: top;\n",
       "    }\n",
       "\n",
       "    .dataframe thead th {\n",
       "        text-align: right;\n",
       "    }\n",
       "</style>\n",
       "<table border=\"1\" class=\"dataframe\">\n",
       "  <thead>\n",
       "    <tr style=\"text-align: right;\">\n",
       "      <th></th>\n",
       "      <th>Airline</th>\n",
       "      <th>Date_of_Journey</th>\n",
       "      <th>Source</th>\n",
       "      <th>Destination</th>\n",
       "      <th>Route</th>\n",
       "      <th>Dep_Time</th>\n",
       "      <th>Arrival_Time</th>\n",
       "      <th>Duration</th>\n",
       "      <th>Total_Stops</th>\n",
       "      <th>Additional_Info</th>\n",
       "      <th>Price</th>\n",
       "    </tr>\n",
       "  </thead>\n",
       "  <tbody>\n",
       "    <tr>\n",
       "      <th>0</th>\n",
       "      <td>IndiGo</td>\n",
       "      <td>24/03/2019</td>\n",
       "      <td>Banglore</td>\n",
       "      <td>New Delhi</td>\n",
       "      <td>BLR → DEL</td>\n",
       "      <td>22:20</td>\n",
       "      <td>01:10 22 Mar</td>\n",
       "      <td>2h 50m</td>\n",
       "      <td>non-stop</td>\n",
       "      <td>No info</td>\n",
       "      <td>3897</td>\n",
       "    </tr>\n",
       "    <tr>\n",
       "      <th>1</th>\n",
       "      <td>Air India</td>\n",
       "      <td>1/05/2019</td>\n",
       "      <td>Kolkata</td>\n",
       "      <td>Banglore</td>\n",
       "      <td>CCU → IXR → BBI → BLR</td>\n",
       "      <td>05:50</td>\n",
       "      <td>13:15</td>\n",
       "      <td>7h 25m</td>\n",
       "      <td>2 stops</td>\n",
       "      <td>No info</td>\n",
       "      <td>7662</td>\n",
       "    </tr>\n",
       "    <tr>\n",
       "      <th>2</th>\n",
       "      <td>Jet Airways</td>\n",
       "      <td>9/06/2019</td>\n",
       "      <td>Delhi</td>\n",
       "      <td>Cochin</td>\n",
       "      <td>DEL → LKO → BOM → COK</td>\n",
       "      <td>09:25</td>\n",
       "      <td>04:25 10 Jun</td>\n",
       "      <td>19h</td>\n",
       "      <td>2 stops</td>\n",
       "      <td>No info</td>\n",
       "      <td>13882</td>\n",
       "    </tr>\n",
       "    <tr>\n",
       "      <th>3</th>\n",
       "      <td>IndiGo</td>\n",
       "      <td>12/05/2019</td>\n",
       "      <td>Kolkata</td>\n",
       "      <td>Banglore</td>\n",
       "      <td>CCU → NAG → BLR</td>\n",
       "      <td>18:05</td>\n",
       "      <td>23:30</td>\n",
       "      <td>5h 25m</td>\n",
       "      <td>1 stop</td>\n",
       "      <td>No info</td>\n",
       "      <td>6218</td>\n",
       "    </tr>\n",
       "    <tr>\n",
       "      <th>4</th>\n",
       "      <td>IndiGo</td>\n",
       "      <td>01/03/2019</td>\n",
       "      <td>Banglore</td>\n",
       "      <td>New Delhi</td>\n",
       "      <td>BLR → NAG → DEL</td>\n",
       "      <td>16:50</td>\n",
       "      <td>21:35</td>\n",
       "      <td>4h 45m</td>\n",
       "      <td>1 stop</td>\n",
       "      <td>No info</td>\n",
       "      <td>13302</td>\n",
       "    </tr>\n",
       "  </tbody>\n",
       "</table>\n",
       "</div>"
      ],
      "text/plain": [
       "       Airline Date_of_Journey    Source Destination                  Route  \\\n",
       "0       IndiGo      24/03/2019  Banglore   New Delhi              BLR → DEL   \n",
       "1    Air India       1/05/2019   Kolkata    Banglore  CCU → IXR → BBI → BLR   \n",
       "2  Jet Airways       9/06/2019     Delhi      Cochin  DEL → LKO → BOM → COK   \n",
       "3       IndiGo      12/05/2019   Kolkata    Banglore        CCU → NAG → BLR   \n",
       "4       IndiGo      01/03/2019  Banglore   New Delhi        BLR → NAG → DEL   \n",
       "\n",
       "  Dep_Time  Arrival_Time Duration Total_Stops Additional_Info  Price  \n",
       "0    22:20  01:10 22 Mar   2h 50m    non-stop         No info   3897  \n",
       "1    05:50         13:15   7h 25m     2 stops         No info   7662  \n",
       "2    09:25  04:25 10 Jun      19h     2 stops         No info  13882  \n",
       "3    18:05         23:30   5h 25m      1 stop         No info   6218  \n",
       "4    16:50         21:35   4h 45m      1 stop         No info  13302  "
      ]
     },
     "execution_count": 2,
     "metadata": {},
     "output_type": "execute_result"
    }
   ],
   "source": [
    "df=pd.read_excel(r\"F:\\PROJECT FILES AND DESCRIPTION\\project dataset\\Flight_Fare.xlsx\")\n",
    "df.head()"
   ]
  },
  {
   "cell_type": "markdown",
   "id": "62b41bf2",
   "metadata": {},
   "source": [
    "**Inspection of the data**"
   ]
  },
  {
   "cell_type": "code",
   "execution_count": 3,
   "id": "873049e2",
   "metadata": {},
   "outputs": [
    {
     "data": {
      "text/plain": [
       "(10683, 11)"
      ]
     },
     "execution_count": 3,
     "metadata": {},
     "output_type": "execute_result"
    }
   ],
   "source": [
    "df.shape"
   ]
  },
  {
   "cell_type": "markdown",
   "id": "ea332100",
   "metadata": {},
   "source": [
    "**Summary of the dataset**"
   ]
  },
  {
   "cell_type": "code",
   "execution_count": 4,
   "id": "2408dc49",
   "metadata": {},
   "outputs": [
    {
     "data": {
      "text/html": [
       "<div>\n",
       "<style scoped>\n",
       "    .dataframe tbody tr th:only-of-type {\n",
       "        vertical-align: middle;\n",
       "    }\n",
       "\n",
       "    .dataframe tbody tr th {\n",
       "        vertical-align: top;\n",
       "    }\n",
       "\n",
       "    .dataframe thead th {\n",
       "        text-align: right;\n",
       "    }\n",
       "</style>\n",
       "<table border=\"1\" class=\"dataframe\">\n",
       "  <thead>\n",
       "    <tr style=\"text-align: right;\">\n",
       "      <th></th>\n",
       "      <th>Price</th>\n",
       "    </tr>\n",
       "  </thead>\n",
       "  <tbody>\n",
       "    <tr>\n",
       "      <th>count</th>\n",
       "      <td>10683.000000</td>\n",
       "    </tr>\n",
       "    <tr>\n",
       "      <th>mean</th>\n",
       "      <td>9087.064121</td>\n",
       "    </tr>\n",
       "    <tr>\n",
       "      <th>std</th>\n",
       "      <td>4611.359167</td>\n",
       "    </tr>\n",
       "    <tr>\n",
       "      <th>min</th>\n",
       "      <td>1759.000000</td>\n",
       "    </tr>\n",
       "    <tr>\n",
       "      <th>25%</th>\n",
       "      <td>5277.000000</td>\n",
       "    </tr>\n",
       "    <tr>\n",
       "      <th>50%</th>\n",
       "      <td>8372.000000</td>\n",
       "    </tr>\n",
       "    <tr>\n",
       "      <th>75%</th>\n",
       "      <td>12373.000000</td>\n",
       "    </tr>\n",
       "    <tr>\n",
       "      <th>max</th>\n",
       "      <td>79512.000000</td>\n",
       "    </tr>\n",
       "  </tbody>\n",
       "</table>\n",
       "</div>"
      ],
      "text/plain": [
       "              Price\n",
       "count  10683.000000\n",
       "mean    9087.064121\n",
       "std     4611.359167\n",
       "min     1759.000000\n",
       "25%     5277.000000\n",
       "50%     8372.000000\n",
       "75%    12373.000000\n",
       "max    79512.000000"
      ]
     },
     "execution_count": 4,
     "metadata": {},
     "output_type": "execute_result"
    }
   ],
   "source": [
    "df.describe()"
   ]
  },
  {
   "cell_type": "markdown",
   "id": "cbcadf4d",
   "metadata": {},
   "source": [
    "**Informatiion about the data and its datatypes**"
   ]
  },
  {
   "cell_type": "code",
   "execution_count": 5,
   "id": "15e83622",
   "metadata": {},
   "outputs": [
    {
     "name": "stdout",
     "output_type": "stream",
     "text": [
      "<class 'pandas.core.frame.DataFrame'>\n",
      "RangeIndex: 10683 entries, 0 to 10682\n",
      "Data columns (total 11 columns):\n",
      " #   Column           Non-Null Count  Dtype \n",
      "---  ------           --------------  ----- \n",
      " 0   Airline          10683 non-null  object\n",
      " 1   Date_of_Journey  10683 non-null  object\n",
      " 2   Source           10683 non-null  object\n",
      " 3   Destination      10683 non-null  object\n",
      " 4   Route            10682 non-null  object\n",
      " 5   Dep_Time         10683 non-null  object\n",
      " 6   Arrival_Time     10683 non-null  object\n",
      " 7   Duration         10683 non-null  object\n",
      " 8   Total_Stops      10682 non-null  object\n",
      " 9   Additional_Info  10683 non-null  object\n",
      " 10  Price            10683 non-null  int64 \n",
      "dtypes: int64(1), object(10)\n",
      "memory usage: 918.2+ KB\n"
     ]
    }
   ],
   "source": [
    "df.info()"
   ]
  },
  {
   "cell_type": "code",
   "execution_count": 6,
   "id": "0b89933e",
   "metadata": {},
   "outputs": [
    {
     "data": {
      "text/plain": [
       "Airline            object\n",
       "Date_of_Journey    object\n",
       "Source             object\n",
       "Destination        object\n",
       "Route              object\n",
       "Dep_Time           object\n",
       "Arrival_Time       object\n",
       "Duration           object\n",
       "Total_Stops        object\n",
       "Additional_Info    object\n",
       "Price               int64\n",
       "dtype: object"
      ]
     },
     "execution_count": 6,
     "metadata": {},
     "output_type": "execute_result"
    }
   ],
   "source": [
    "df.dtypes"
   ]
  },
  {
   "cell_type": "markdown",
   "id": "9301c53e",
   "metadata": {},
   "source": [
    "**Checking if there is any null values**"
   ]
  },
  {
   "cell_type": "code",
   "execution_count": 7,
   "id": "682544d7",
   "metadata": {},
   "outputs": [
    {
     "data": {
      "text/plain": [
       "Airline            0\n",
       "Date_of_Journey    0\n",
       "Source             0\n",
       "Destination        0\n",
       "Route              1\n",
       "Dep_Time           0\n",
       "Arrival_Time       0\n",
       "Duration           0\n",
       "Total_Stops        1\n",
       "Additional_Info    0\n",
       "Price              0\n",
       "dtype: int64"
      ]
     },
     "execution_count": 7,
     "metadata": {},
     "output_type": "execute_result"
    }
   ],
   "source": [
    "df.isnull().sum()"
   ]
  },
  {
   "cell_type": "markdown",
   "id": "1099c1cd",
   "metadata": {},
   "source": [
    "**In the whole data set there is only 2 null values each in Route and Total_stops, with the 10683 rows we can drop the two null values, it doesnt create any major difference in final output**"
   ]
  },
  {
   "cell_type": "code",
   "execution_count": 8,
   "id": "15ac8c50",
   "metadata": {},
   "outputs": [],
   "source": [
    "df.dropna(inplace=True)"
   ]
  },
  {
   "cell_type": "markdown",
   "id": "0ca977b7",
   "metadata": {},
   "source": [
    "### Exploratory Data Analysis(EDA)"
   ]
  },
  {
   "cell_type": "markdown",
   "id": "f491fa06",
   "metadata": {},
   "source": [
    "**Preferred Airlines among the passangers**"
   ]
  },
  {
   "cell_type": "code",
   "execution_count": 9,
   "id": "db2e8fc5",
   "metadata": {},
   "outputs": [
    {
     "data": {
      "image/png": "[encoded data removed]",
      "text/plain": [
       "<Figure size 1200x500 with 1 Axes>"
      ]
     },
     "metadata": {},
     "output_type": "display_data"
    }
   ],
   "source": [
    "plt.figure(figsize=(12,5))\n",
    "sns.countplot(x='Airline',data=df,order=df['Airline'].value_counts().index,ec='black')\n",
    "font_style={'family':'times new roman','size':20,'color':'black'}\n",
    "plt.title('Preferred Airlines Among Customers ',fontdict=font_style)\n",
    "plt.xlabel('Airlines',fontdict=font_style)\n",
    "plt.ylabel('Tickets Sold',fontdict=font_style)\n",
    "plt.xticks(rotation=90)\n",
    "plt.show()"
   ]
  },
  {
   "cell_type": "markdown",
   "id": "a014b2b6",
   "metadata": {},
   "source": [
    "**Most Preferred Airline among people is 'Jet Airways'.\n",
    "Indigo is the second most preferred with Air india as the third most \n",
    "Preferred**"
   ]
  },
  {
   "cell_type": "markdown",
   "id": "c044094e",
   "metadata": {},
   "source": [
    "### Airlines vs ticket price"
   ]
  },
  {
   "cell_type": "code",
   "execution_count": 10,
   "id": "9a22f3e9",
   "metadata": {},
   "outputs": [
    {
     "data": {
      "text/html": [
       "<div>\n",
       "<style scoped>\n",
       "    .dataframe tbody tr th:only-of-type {\n",
       "        vertical-align: middle;\n",
       "    }\n",
       "\n",
       "    .dataframe tbody tr th {\n",
       "        vertical-align: top;\n",
       "    }\n",
       "\n",
       "    .dataframe thead th {\n",
       "        text-align: right;\n",
       "    }\n",
       "</style>\n",
       "<table border=\"1\" class=\"dataframe\">\n",
       "  <thead>\n",
       "    <tr style=\"text-align: right;\">\n",
       "      <th></th>\n",
       "      <th>Price</th>\n",
       "    </tr>\n",
       "    <tr>\n",
       "      <th>Airline</th>\n",
       "      <th></th>\n",
       "    </tr>\n",
       "  </thead>\n",
       "  <tbody>\n",
       "    <tr>\n",
       "      <th>Jet Airways Business</th>\n",
       "      <td>79512</td>\n",
       "    </tr>\n",
       "    <tr>\n",
       "      <th>Jet Airways</th>\n",
       "      <td>54826</td>\n",
       "    </tr>\n",
       "    <tr>\n",
       "      <th>Multiple carriers</th>\n",
       "      <td>36983</td>\n",
       "    </tr>\n",
       "    <tr>\n",
       "      <th>Air India</th>\n",
       "      <td>31945</td>\n",
       "    </tr>\n",
       "    <tr>\n",
       "      <th>SpiceJet</th>\n",
       "      <td>23267</td>\n",
       "    </tr>\n",
       "    <tr>\n",
       "      <th>GoAir</th>\n",
       "      <td>22794</td>\n",
       "    </tr>\n",
       "    <tr>\n",
       "      <th>IndiGo</th>\n",
       "      <td>22153</td>\n",
       "    </tr>\n",
       "    <tr>\n",
       "      <th>Vistara</th>\n",
       "      <td>21730</td>\n",
       "    </tr>\n",
       "    <tr>\n",
       "      <th>Multiple carriers Premium economy</th>\n",
       "      <td>14629</td>\n",
       "    </tr>\n",
       "    <tr>\n",
       "      <th>Air Asia</th>\n",
       "      <td>13774</td>\n",
       "    </tr>\n",
       "  </tbody>\n",
       "</table>\n",
       "</div>"
      ],
      "text/plain": [
       "                                   Price\n",
       "Airline                                 \n",
       "Jet Airways Business               79512\n",
       "Jet Airways                        54826\n",
       "Multiple carriers                  36983\n",
       "Air India                          31945\n",
       "SpiceJet                           23267\n",
       "GoAir                              22794\n",
       "IndiGo                             22153\n",
       "Vistara                            21730\n",
       "Multiple carriers Premium economy  14629\n",
       "Air Asia                           13774"
      ]
     },
     "execution_count": 10,
     "metadata": {},
     "output_type": "execute_result"
    }
   ],
   "source": [
    "airlines=df.groupby('Airline').Price.max()\n",
    "airlines_df=airlines.to_frame().sort_values('Price',ascending=False)[0:10]\n",
    "airlines_df"
   ]
  },
  {
   "cell_type": "code",
   "execution_count": 11,
   "id": "0d861db8",
   "metadata": {},
   "outputs": [
    {
     "data": {
      "text/html": [
       "<div>\n",
       "<style scoped>\n",
       "    .dataframe tbody tr th:only-of-type {\n",
       "        vertical-align: middle;\n",
       "    }\n",
       "\n",
       "    .dataframe tbody tr th {\n",
       "        vertical-align: top;\n",
       "    }\n",
       "\n",
       "    .dataframe thead th {\n",
       "        text-align: right;\n",
       "    }\n",
       "</style>\n",
       "<table border=\"1\" class=\"dataframe\">\n",
       "  <thead>\n",
       "    <tr style=\"text-align: right;\">\n",
       "      <th></th>\n",
       "      <th>Price</th>\n",
       "    </tr>\n",
       "    <tr>\n",
       "      <th>Airline</th>\n",
       "      <th></th>\n",
       "    </tr>\n",
       "  </thead>\n",
       "  <tbody>\n",
       "    <tr>\n",
       "      <th>SpiceJet</th>\n",
       "      <td>1759</td>\n",
       "    </tr>\n",
       "    <tr>\n",
       "      <th>Jet Airways</th>\n",
       "      <td>1840</td>\n",
       "    </tr>\n",
       "    <tr>\n",
       "      <th>Air India</th>\n",
       "      <td>2050</td>\n",
       "    </tr>\n",
       "    <tr>\n",
       "      <th>IndiGo</th>\n",
       "      <td>2227</td>\n",
       "    </tr>\n",
       "    <tr>\n",
       "      <th>Air Asia</th>\n",
       "      <td>3383</td>\n",
       "    </tr>\n",
       "    <tr>\n",
       "      <th>GoAir</th>\n",
       "      <td>3398</td>\n",
       "    </tr>\n",
       "    <tr>\n",
       "      <th>Vistara</th>\n",
       "      <td>3687</td>\n",
       "    </tr>\n",
       "    <tr>\n",
       "      <th>Trujet</th>\n",
       "      <td>4140</td>\n",
       "    </tr>\n",
       "    <tr>\n",
       "      <th>Multiple carriers</th>\n",
       "      <td>5797</td>\n",
       "    </tr>\n",
       "    <tr>\n",
       "      <th>Vistara Premium economy</th>\n",
       "      <td>5969</td>\n",
       "    </tr>\n",
       "  </tbody>\n",
       "</table>\n",
       "</div>"
      ],
      "text/plain": [
       "                         Price\n",
       "Airline                       \n",
       "SpiceJet                  1759\n",
       "Jet Airways               1840\n",
       "Air India                 2050\n",
       "IndiGo                    2227\n",
       "Air Asia                  3383\n",
       "GoAir                     3398\n",
       "Vistara                   3687\n",
       "Trujet                    4140\n",
       "Multiple carriers         5797\n",
       "Vistara Premium economy   5969"
      ]
     },
     "execution_count": 11,
     "metadata": {},
     "output_type": "execute_result"
    }
   ],
   "source": [
    "airlines=df.groupby('Airline').Price.min()\n",
    "airlines_df_min=airlines.to_frame().sort_values('Price',ascending=True)[0:10]\n",
    "airlines_df_min"
   ]
  },
  {
   "cell_type": "markdown",
   "id": "af4820dd",
   "metadata": {},
   "source": [
    "**Costliest Flight Ticket**"
   ]
  },
  {
   "cell_type": "code",
   "execution_count": 12,
   "id": "b6313cf7",
   "metadata": {},
   "outputs": [
    {
     "data": {
      "image/png": "[encoded data removed]",
      "text/plain": [
       "<Figure size 1200x500 with 1 Axes>"
      ]
     },
     "metadata": {},
     "output_type": "display_data"
    }
   ],
   "source": [
    "plt.subplots(figsize=(12,5))\n",
    "sns.barplot(x=airlines_df.index, y=airlines_df[\"Price\"],ec = \"black\")\n",
    "font_style={'family':'times new roman','size':20,'color':'black'}\n",
    "plt.title(\"Airlines Company vs Flight Ticket Price(Costliest)\",fontdict=font_style )\n",
    "plt.ylabel(\"Ticket Price\", fontdict=font_style)\n",
    "plt.xlabel(\"Airlines\", fontdict=font_style)\n",
    "plt.xticks(rotation=90)\n",
    "plt.show()"
   ]
  },
  {
   "cell_type": "markdown",
   "id": "2bbcfc8b",
   "metadata": {},
   "source": [
    "**Lowest Ticket Price**"
   ]
  },
  {
   "cell_type": "code",
   "execution_count": 13,
   "id": "a206c2e0",
   "metadata": {},
   "outputs": [
    {
     "data": {
      "image/png": "[encoded data removed]",
      "text/plain": [
       "<Figure size 1200x500 with 1 Axes>"
      ]
     },
     "metadata": {},
     "output_type": "display_data"
    }
   ],
   "source": [
    "plt.subplots(figsize=(12,5))\n",
    "sns.barplot(x=airlines_df_min.index,y=airlines_df_min['Price'],ec='black')\n",
    "font_style={'family':'times new roman','size':20,'color':'black'}\n",
    "plt.title('Airlines company vs Flight Price Ticket(Lowest price)',fontdict=font_style)\n",
    "plt.xlabel('Airlines',fontdict=font_style)\n",
    "plt.ylabel('Ticket price',fontdict=font_style)\n",
    "plt.xticks(rotation=90)\n",
    "plt.show()"
   ]
  },
  {
   "cell_type": "markdown",
   "id": "6a484ccd",
   "metadata": {},
   "source": [
    "- Jetairways buisness class is the costliest ticket among all \n",
    "- Spicejet with the lowest ticket cost among all"
   ]
  },
  {
   "cell_type": "markdown",
   "id": "9c9d9d63",
   "metadata": {},
   "source": [
    "**Price on weekdays vs weekends**"
   ]
  },
  {
   "cell_type": "code",
   "execution_count": 14,
   "id": "79fc85fd",
   "metadata": {},
   "outputs": [
    {
     "data": {
      "text/html": [
       "<div>\n",
       "<style scoped>\n",
       "    .dataframe tbody tr th:only-of-type {\n",
       "        vertical-align: middle;\n",
       "    }\n",
       "\n",
       "    .dataframe tbody tr th {\n",
       "        vertical-align: top;\n",
       "    }\n",
       "\n",
       "    .dataframe thead th {\n",
       "        text-align: right;\n",
       "    }\n",
       "</style>\n",
       "<table border=\"1\" class=\"dataframe\">\n",
       "  <thead>\n",
       "    <tr style=\"text-align: right;\">\n",
       "      <th></th>\n",
       "      <th>Airline</th>\n",
       "      <th>Date_of_Journey</th>\n",
       "      <th>Price</th>\n",
       "    </tr>\n",
       "  </thead>\n",
       "  <tbody>\n",
       "    <tr>\n",
       "      <th>0</th>\n",
       "      <td>IndiGo</td>\n",
       "      <td>24/03/2019</td>\n",
       "      <td>3897</td>\n",
       "    </tr>\n",
       "    <tr>\n",
       "      <th>1</th>\n",
       "      <td>Air India</td>\n",
       "      <td>1/05/2019</td>\n",
       "      <td>7662</td>\n",
       "    </tr>\n",
       "    <tr>\n",
       "      <th>2</th>\n",
       "      <td>Jet Airways</td>\n",
       "      <td>9/06/2019</td>\n",
       "      <td>13882</td>\n",
       "    </tr>\n",
       "    <tr>\n",
       "      <th>3</th>\n",
       "      <td>IndiGo</td>\n",
       "      <td>12/05/2019</td>\n",
       "      <td>6218</td>\n",
       "    </tr>\n",
       "    <tr>\n",
       "      <th>4</th>\n",
       "      <td>IndiGo</td>\n",
       "      <td>01/03/2019</td>\n",
       "      <td>13302</td>\n",
       "    </tr>\n",
       "  </tbody>\n",
       "</table>\n",
       "</div>"
      ],
      "text/plain": [
       "       Airline Date_of_Journey  Price\n",
       "0       IndiGo      24/03/2019   3897\n",
       "1    Air India       1/05/2019   7662\n",
       "2  Jet Airways       9/06/2019  13882\n",
       "3       IndiGo      12/05/2019   6218\n",
       "4       IndiGo      01/03/2019  13302"
      ]
     },
     "execution_count": 14,
     "metadata": {},
     "output_type": "execute_result"
    }
   ],
   "source": [
    "days_df=df[['Airline','Date_of_Journey','Price']].copy()\n",
    "days_df.head()"
   ]
  },
  {
   "cell_type": "code",
   "execution_count": 15,
   "id": "105eed17",
   "metadata": {},
   "outputs": [
    {
     "data": {
      "text/html": [
       "<div>\n",
       "<style scoped>\n",
       "    .dataframe tbody tr th:only-of-type {\n",
       "        vertical-align: middle;\n",
       "    }\n",
       "\n",
       "    .dataframe tbody tr th {\n",
       "        vertical-align: top;\n",
       "    }\n",
       "\n",
       "    .dataframe thead th {\n",
       "        text-align: right;\n",
       "    }\n",
       "</style>\n",
       "<table border=\"1\" class=\"dataframe\">\n",
       "  <thead>\n",
       "    <tr style=\"text-align: right;\">\n",
       "      <th></th>\n",
       "      <th>Airline</th>\n",
       "      <th>Date_of_Journey</th>\n",
       "      <th>Price</th>\n",
       "      <th>Weekday</th>\n",
       "      <th>Weekend</th>\n",
       "    </tr>\n",
       "  </thead>\n",
       "  <tbody>\n",
       "    <tr>\n",
       "      <th>0</th>\n",
       "      <td>IndiGo</td>\n",
       "      <td>2019-03-24</td>\n",
       "      <td>3897</td>\n",
       "      <td>Sunday</td>\n",
       "      <td>1</td>\n",
       "    </tr>\n",
       "    <tr>\n",
       "      <th>1</th>\n",
       "      <td>Air India</td>\n",
       "      <td>2019-05-01</td>\n",
       "      <td>7662</td>\n",
       "      <td>Wednesday</td>\n",
       "      <td>0</td>\n",
       "    </tr>\n",
       "    <tr>\n",
       "      <th>2</th>\n",
       "      <td>Jet Airways</td>\n",
       "      <td>2019-06-09</td>\n",
       "      <td>13882</td>\n",
       "      <td>Sunday</td>\n",
       "      <td>1</td>\n",
       "    </tr>\n",
       "    <tr>\n",
       "      <th>3</th>\n",
       "      <td>IndiGo</td>\n",
       "      <td>2019-05-12</td>\n",
       "      <td>6218</td>\n",
       "      <td>Sunday</td>\n",
       "      <td>1</td>\n",
       "    </tr>\n",
       "    <tr>\n",
       "      <th>4</th>\n",
       "      <td>IndiGo</td>\n",
       "      <td>2019-03-01</td>\n",
       "      <td>13302</td>\n",
       "      <td>Friday</td>\n",
       "      <td>0</td>\n",
       "    </tr>\n",
       "    <tr>\n",
       "      <th>5</th>\n",
       "      <td>SpiceJet</td>\n",
       "      <td>2019-06-24</td>\n",
       "      <td>3873</td>\n",
       "      <td>Monday</td>\n",
       "      <td>0</td>\n",
       "    </tr>\n",
       "    <tr>\n",
       "      <th>6</th>\n",
       "      <td>Jet Airways</td>\n",
       "      <td>2019-03-12</td>\n",
       "      <td>11087</td>\n",
       "      <td>Tuesday</td>\n",
       "      <td>0</td>\n",
       "    </tr>\n",
       "    <tr>\n",
       "      <th>7</th>\n",
       "      <td>Jet Airways</td>\n",
       "      <td>2019-03-01</td>\n",
       "      <td>22270</td>\n",
       "      <td>Friday</td>\n",
       "      <td>0</td>\n",
       "    </tr>\n",
       "    <tr>\n",
       "      <th>8</th>\n",
       "      <td>Jet Airways</td>\n",
       "      <td>2019-03-12</td>\n",
       "      <td>11087</td>\n",
       "      <td>Tuesday</td>\n",
       "      <td>0</td>\n",
       "    </tr>\n",
       "    <tr>\n",
       "      <th>9</th>\n",
       "      <td>Multiple carriers</td>\n",
       "      <td>2019-05-27</td>\n",
       "      <td>8625</td>\n",
       "      <td>Monday</td>\n",
       "      <td>0</td>\n",
       "    </tr>\n",
       "    <tr>\n",
       "      <th>10</th>\n",
       "      <td>Air India</td>\n",
       "      <td>2019-06-01</td>\n",
       "      <td>8907</td>\n",
       "      <td>Saturday</td>\n",
       "      <td>1</td>\n",
       "    </tr>\n",
       "    <tr>\n",
       "      <th>11</th>\n",
       "      <td>IndiGo</td>\n",
       "      <td>2019-04-18</td>\n",
       "      <td>4174</td>\n",
       "      <td>Thursday</td>\n",
       "      <td>0</td>\n",
       "    </tr>\n",
       "    <tr>\n",
       "      <th>12</th>\n",
       "      <td>Air India</td>\n",
       "      <td>2019-06-24</td>\n",
       "      <td>4667</td>\n",
       "      <td>Monday</td>\n",
       "      <td>0</td>\n",
       "    </tr>\n",
       "    <tr>\n",
       "      <th>13</th>\n",
       "      <td>Jet Airways</td>\n",
       "      <td>2019-05-09</td>\n",
       "      <td>9663</td>\n",
       "      <td>Thursday</td>\n",
       "      <td>0</td>\n",
       "    </tr>\n",
       "    <tr>\n",
       "      <th>14</th>\n",
       "      <td>IndiGo</td>\n",
       "      <td>2019-04-24</td>\n",
       "      <td>4804</td>\n",
       "      <td>Wednesday</td>\n",
       "      <td>0</td>\n",
       "    </tr>\n",
       "    <tr>\n",
       "      <th>15</th>\n",
       "      <td>Air India</td>\n",
       "      <td>2019-03-03</td>\n",
       "      <td>14011</td>\n",
       "      <td>Sunday</td>\n",
       "      <td>1</td>\n",
       "    </tr>\n",
       "    <tr>\n",
       "      <th>16</th>\n",
       "      <td>SpiceJet</td>\n",
       "      <td>2019-04-15</td>\n",
       "      <td>5830</td>\n",
       "      <td>Monday</td>\n",
       "      <td>0</td>\n",
       "    </tr>\n",
       "    <tr>\n",
       "      <th>17</th>\n",
       "      <td>Jet Airways</td>\n",
       "      <td>2019-06-12</td>\n",
       "      <td>10262</td>\n",
       "      <td>Wednesday</td>\n",
       "      <td>0</td>\n",
       "    </tr>\n",
       "    <tr>\n",
       "      <th>18</th>\n",
       "      <td>Air India</td>\n",
       "      <td>2019-06-12</td>\n",
       "      <td>13381</td>\n",
       "      <td>Wednesday</td>\n",
       "      <td>0</td>\n",
       "    </tr>\n",
       "    <tr>\n",
       "      <th>19</th>\n",
       "      <td>Jet Airways</td>\n",
       "      <td>2019-05-27</td>\n",
       "      <td>12898</td>\n",
       "      <td>Monday</td>\n",
       "      <td>0</td>\n",
       "    </tr>\n",
       "  </tbody>\n",
       "</table>\n",
       "</div>"
      ],
      "text/plain": [
       "              Airline Date_of_Journey  Price    Weekday  Weekend\n",
       "0              IndiGo      2019-03-24   3897     Sunday        1\n",
       "1           Air India      2019-05-01   7662  Wednesday        0\n",
       "2         Jet Airways      2019-06-09  13882     Sunday        1\n",
       "3              IndiGo      2019-05-12   6218     Sunday        1\n",
       "4              IndiGo      2019-03-01  13302     Friday        0\n",
       "5            SpiceJet      2019-06-24   3873     Monday        0\n",
       "6         Jet Airways      2019-03-12  11087    Tuesday        0\n",
       "7         Jet Airways      2019-03-01  22270     Friday        0\n",
       "8         Jet Airways      2019-03-12  11087    Tuesday        0\n",
       "9   Multiple carriers      2019-05-27   8625     Monday        0\n",
       "10          Air India      2019-06-01   8907   Saturday        1\n",
       "11             IndiGo      2019-04-18   4174   Thursday        0\n",
       "12          Air India      2019-06-24   4667     Monday        0\n",
       "13        Jet Airways      2019-05-09   9663   Thursday        0\n",
       "14             IndiGo      2019-04-24   4804  Wednesday        0\n",
       "15          Air India      2019-03-03  14011     Sunday        1\n",
       "16           SpiceJet      2019-04-15   5830     Monday        0\n",
       "17        Jet Airways      2019-06-12  10262  Wednesday        0\n",
       "18          Air India      2019-06-12  13381  Wednesday        0\n",
       "19        Jet Airways      2019-05-27  12898     Monday        0"
      ]
     },
     "execution_count": 15,
     "metadata": {},
     "output_type": "execute_result"
    }
   ],
   "source": [
    "days_df['Date_of_Journey'] = pd.to_datetime(days_df['Date_of_Journey'],format='%d/%m/%Y')\n",
    "days_df['Weekday'] = days_df['Date_of_Journey'].dt.day_name()\n",
    "days_df['Weekend'] = days_df['Weekday'].apply(lambda day: 1 if day == 'Sunday'or day=='Saturday' else 0)\n",
    "days_df.head(20)"
   ]
  },
  {
   "cell_type": "markdown",
   "id": "b452cfad",
   "metadata": {},
   "source": [
    "**Plotting the price difference on weekdays and weekends**"
   ]
  },
  {
   "cell_type": "code",
   "execution_count": 16,
   "id": "c6d308d8",
   "metadata": {},
   "outputs": [
    {
     "data": {
      "image/png": "[encoded data removed]",
      "text/plain": [
       "<Figure size 1200x500 with 1 Axes>"
      ]
     },
     "metadata": {},
     "output_type": "display_data"
    }
   ],
   "source": [
    "plt.subplots(figsize=(12,5))\n",
    "sns.barplot(x='Airline',y='Price',data=days_df,hue='Weekend')\n",
    "plt.xlabel('Airline company',size=15)\n",
    "plt.ylabel('Price',size=15)\n",
    "plt.title('Price on weekdays vs Price on Weekends',size=15)\n",
    "plt.legend(title='Weekend'.title())\n",
    "plt.xticks(rotation=90)\n",
    "plt.show()"
   ]
  },
  {
   "cell_type": "markdown",
   "id": "d62b1365",
   "metadata": {},
   "source": [
    "**We can also find the highest price of the ticket with a function**"
   ]
  },
  {
   "cell_type": "code",
   "execution_count": 17,
   "id": "f6647aed",
   "metadata": {},
   "outputs": [
    {
     "name": "stdout",
     "output_type": "stream",
     "text": [
      "The highest ticket prices are on weekends.\n"
     ]
    }
   ],
   "source": [
    "def find_high_price_days(days_df):\n",
    "    weekday = days_df['Weekend'] == 0\n",
    "    average_price_by_day = days_df.groupby(weekday)['Price'].mean()\n",
    "    \n",
    "    # Find the days with the highest average ticket prices\n",
    "    highest_price_days = average_price_by_day[average_price_by_day == average_price_by_day.max()]\n",
    "    \n",
    "    # Determine if the highest prices are on weekdays, weekends, or both\n",
    "    if highest_price_days.index.all():\n",
    "        return \"The highest ticket prices are on weekdays.\"\n",
    "    elif not highest_price_days.index.any():\n",
    "        return \"The highest ticket prices are on weekends.\"\n",
    "    else:\n",
    "        return \"The highest ticket prices are on both weekdays and weekends.\"\n",
    "\n",
    "\n",
    "high_price_info = find_high_price_days(days_df)\n",
    "print(high_price_info)\n"
   ]
  },
  {
   "cell_type": "markdown",
   "id": "68a041a7",
   "metadata": {},
   "source": [
    "## FEATURE ENGINEERING"
   ]
  },
  {
   "cell_type": "markdown",
   "id": "e68a0b45",
   "metadata": {},
   "source": [
    "- Extracting the day,month and year from Date_of_journey and store them in new columns \n",
    "- In this way we can convert the object data type into int"
   ]
  },
  {
   "cell_type": "markdown",
   "id": "4154743d",
   "metadata": {},
   "source": [
    "**With the help of datetime we can extract the date and time separately**"
   ]
  },
  {
   "cell_type": "code",
   "execution_count": 18,
   "id": "c4ffe95d",
   "metadata": {},
   "outputs": [],
   "source": [
    "df[\"Journey_day\"]=pd.to_datetime(df.Date_of_Journey,format=\"%d/%m/%Y\").dt.day"
   ]
  },
  {
   "cell_type": "code",
   "execution_count": 19,
   "id": "821287bb",
   "metadata": {},
   "outputs": [],
   "source": [
    "df[\"Journey_month\"]=pd.to_datetime(df.Date_of_Journey,format='%d/%m/%Y').dt.month"
   ]
  },
  {
   "cell_type": "code",
   "execution_count": 20,
   "id": "1a50f9d8",
   "metadata": {},
   "outputs": [],
   "source": [
    "df['Journey_year']=pd.to_datetime(df.Date_of_Journey,format='%d/%m/%Y').dt.year"
   ]
  },
  {
   "cell_type": "code",
   "execution_count": 21,
   "id": "0b94a659",
   "metadata": {},
   "outputs": [
    {
     "data": {
      "text/html": [
       "<div>\n",
       "<style scoped>\n",
       "    .dataframe tbody tr th:only-of-type {\n",
       "        vertical-align: middle;\n",
       "    }\n",
       "\n",
       "    .dataframe tbody tr th {\n",
       "        vertical-align: top;\n",
       "    }\n",
       "\n",
       "    .dataframe thead th {\n",
       "        text-align: right;\n",
       "    }\n",
       "</style>\n",
       "<table border=\"1\" class=\"dataframe\">\n",
       "  <thead>\n",
       "    <tr style=\"text-align: right;\">\n",
       "      <th></th>\n",
       "      <th>Airline</th>\n",
       "      <th>Date_of_Journey</th>\n",
       "      <th>Source</th>\n",
       "      <th>Destination</th>\n",
       "      <th>Route</th>\n",
       "      <th>Dep_Time</th>\n",
       "      <th>Arrival_Time</th>\n",
       "      <th>Duration</th>\n",
       "      <th>Total_Stops</th>\n",
       "      <th>Additional_Info</th>\n",
       "      <th>Price</th>\n",
       "      <th>Journey_day</th>\n",
       "      <th>Journey_month</th>\n",
       "      <th>Journey_year</th>\n",
       "    </tr>\n",
       "  </thead>\n",
       "  <tbody>\n",
       "    <tr>\n",
       "      <th>0</th>\n",
       "      <td>IndiGo</td>\n",
       "      <td>24/03/2019</td>\n",
       "      <td>Banglore</td>\n",
       "      <td>New Delhi</td>\n",
       "      <td>BLR → DEL</td>\n",
       "      <td>22:20</td>\n",
       "      <td>01:10 22 Mar</td>\n",
       "      <td>2h 50m</td>\n",
       "      <td>non-stop</td>\n",
       "      <td>No info</td>\n",
       "      <td>3897</td>\n",
       "      <td>24</td>\n",
       "      <td>3</td>\n",
       "      <td>2019</td>\n",
       "    </tr>\n",
       "    <tr>\n",
       "      <th>1</th>\n",
       "      <td>Air India</td>\n",
       "      <td>1/05/2019</td>\n",
       "      <td>Kolkata</td>\n",
       "      <td>Banglore</td>\n",
       "      <td>CCU → IXR → BBI → BLR</td>\n",
       "      <td>05:50</td>\n",
       "      <td>13:15</td>\n",
       "      <td>7h 25m</td>\n",
       "      <td>2 stops</td>\n",
       "      <td>No info</td>\n",
       "      <td>7662</td>\n",
       "      <td>1</td>\n",
       "      <td>5</td>\n",
       "      <td>2019</td>\n",
       "    </tr>\n",
       "    <tr>\n",
       "      <th>2</th>\n",
       "      <td>Jet Airways</td>\n",
       "      <td>9/06/2019</td>\n",
       "      <td>Delhi</td>\n",
       "      <td>Cochin</td>\n",
       "      <td>DEL → LKO → BOM → COK</td>\n",
       "      <td>09:25</td>\n",
       "      <td>04:25 10 Jun</td>\n",
       "      <td>19h</td>\n",
       "      <td>2 stops</td>\n",
       "      <td>No info</td>\n",
       "      <td>13882</td>\n",
       "      <td>9</td>\n",
       "      <td>6</td>\n",
       "      <td>2019</td>\n",
       "    </tr>\n",
       "    <tr>\n",
       "      <th>3</th>\n",
       "      <td>IndiGo</td>\n",
       "      <td>12/05/2019</td>\n",
       "      <td>Kolkata</td>\n",
       "      <td>Banglore</td>\n",
       "      <td>CCU → NAG → BLR</td>\n",
       "      <td>18:05</td>\n",
       "      <td>23:30</td>\n",
       "      <td>5h 25m</td>\n",
       "      <td>1 stop</td>\n",
       "      <td>No info</td>\n",
       "      <td>6218</td>\n",
       "      <td>12</td>\n",
       "      <td>5</td>\n",
       "      <td>2019</td>\n",
       "    </tr>\n",
       "    <tr>\n",
       "      <th>4</th>\n",
       "      <td>IndiGo</td>\n",
       "      <td>01/03/2019</td>\n",
       "      <td>Banglore</td>\n",
       "      <td>New Delhi</td>\n",
       "      <td>BLR → NAG → DEL</td>\n",
       "      <td>16:50</td>\n",
       "      <td>21:35</td>\n",
       "      <td>4h 45m</td>\n",
       "      <td>1 stop</td>\n",
       "      <td>No info</td>\n",
       "      <td>13302</td>\n",
       "      <td>1</td>\n",
       "      <td>3</td>\n",
       "      <td>2019</td>\n",
       "    </tr>\n",
       "  </tbody>\n",
       "</table>\n",
       "</div>"
      ],
      "text/plain": [
       "       Airline Date_of_Journey    Source Destination                  Route  \\\n",
       "0       IndiGo      24/03/2019  Banglore   New Delhi              BLR → DEL   \n",
       "1    Air India       1/05/2019   Kolkata    Banglore  CCU → IXR → BBI → BLR   \n",
       "2  Jet Airways       9/06/2019     Delhi      Cochin  DEL → LKO → BOM → COK   \n",
       "3       IndiGo      12/05/2019   Kolkata    Banglore        CCU → NAG → BLR   \n",
       "4       IndiGo      01/03/2019  Banglore   New Delhi        BLR → NAG → DEL   \n",
       "\n",
       "  Dep_Time  Arrival_Time Duration Total_Stops Additional_Info  Price  \\\n",
       "0    22:20  01:10 22 Mar   2h 50m    non-stop         No info   3897   \n",
       "1    05:50         13:15   7h 25m     2 stops         No info   7662   \n",
       "2    09:25  04:25 10 Jun      19h     2 stops         No info  13882   \n",
       "3    18:05         23:30   5h 25m      1 stop         No info   6218   \n",
       "4    16:50         21:35   4h 45m      1 stop         No info  13302   \n",
       "\n",
       "   Journey_day  Journey_month  Journey_year  \n",
       "0           24              3          2019  \n",
       "1            1              5          2019  \n",
       "2            9              6          2019  \n",
       "3           12              5          2019  \n",
       "4            1              3          2019  "
      ]
     },
     "execution_count": 21,
     "metadata": {},
     "output_type": "execute_result"
    }
   ],
   "source": [
    "df.head()"
   ]
  },
  {
   "cell_type": "code",
   "execution_count": 22,
   "id": "b93a9c36",
   "metadata": {},
   "outputs": [],
   "source": [
    "# Now we extracted the data from Date_of_Journey we can drop this column\n",
    "df=df.drop(['Date_of_Journey'],axis=1)"
   ]
  },
  {
   "cell_type": "code",
   "execution_count": 23,
   "id": "1ad5b83d",
   "metadata": {},
   "outputs": [
    {
     "data": {
      "text/plain": [
       "2019    10682\n",
       "Name: Journey_year, dtype: int64"
      ]
     },
     "execution_count": 23,
     "metadata": {},
     "output_type": "execute_result"
    }
   ],
   "source": [
    "df.Journey_year.value_counts()"
   ]
  },
  {
   "cell_type": "code",
   "execution_count": 24,
   "id": "621addf1",
   "metadata": {},
   "outputs": [
    {
     "data": {
      "text/html": [
       "<div>\n",
       "<style scoped>\n",
       "    .dataframe tbody tr th:only-of-type {\n",
       "        vertical-align: middle;\n",
       "    }\n",
       "\n",
       "    .dataframe tbody tr th {\n",
       "        vertical-align: top;\n",
       "    }\n",
       "\n",
       "    .dataframe thead th {\n",
       "        text-align: right;\n",
       "    }\n",
       "</style>\n",
       "<table border=\"1\" class=\"dataframe\">\n",
       "  <thead>\n",
       "    <tr style=\"text-align: right;\">\n",
       "      <th></th>\n",
       "      <th>Airline</th>\n",
       "      <th>Source</th>\n",
       "      <th>Destination</th>\n",
       "      <th>Route</th>\n",
       "      <th>Dep_Time</th>\n",
       "      <th>Arrival_Time</th>\n",
       "      <th>Duration</th>\n",
       "      <th>Total_Stops</th>\n",
       "      <th>Additional_Info</th>\n",
       "      <th>Price</th>\n",
       "      <th>Journey_day</th>\n",
       "      <th>Journey_month</th>\n",
       "    </tr>\n",
       "  </thead>\n",
       "  <tbody>\n",
       "    <tr>\n",
       "      <th>0</th>\n",
       "      <td>IndiGo</td>\n",
       "      <td>Banglore</td>\n",
       "      <td>New Delhi</td>\n",
       "      <td>BLR → DEL</td>\n",
       "      <td>22:20</td>\n",
       "      <td>01:10 22 Mar</td>\n",
       "      <td>2h 50m</td>\n",
       "      <td>non-stop</td>\n",
       "      <td>No info</td>\n",
       "      <td>3897</td>\n",
       "      <td>24</td>\n",
       "      <td>3</td>\n",
       "    </tr>\n",
       "    <tr>\n",
       "      <th>1</th>\n",
       "      <td>Air India</td>\n",
       "      <td>Kolkata</td>\n",
       "      <td>Banglore</td>\n",
       "      <td>CCU → IXR → BBI → BLR</td>\n",
       "      <td>05:50</td>\n",
       "      <td>13:15</td>\n",
       "      <td>7h 25m</td>\n",
       "      <td>2 stops</td>\n",
       "      <td>No info</td>\n",
       "      <td>7662</td>\n",
       "      <td>1</td>\n",
       "      <td>5</td>\n",
       "    </tr>\n",
       "    <tr>\n",
       "      <th>2</th>\n",
       "      <td>Jet Airways</td>\n",
       "      <td>Delhi</td>\n",
       "      <td>Cochin</td>\n",
       "      <td>DEL → LKO → BOM → COK</td>\n",
       "      <td>09:25</td>\n",
       "      <td>04:25 10 Jun</td>\n",
       "      <td>19h</td>\n",
       "      <td>2 stops</td>\n",
       "      <td>No info</td>\n",
       "      <td>13882</td>\n",
       "      <td>9</td>\n",
       "      <td>6</td>\n",
       "    </tr>\n",
       "    <tr>\n",
       "      <th>3</th>\n",
       "      <td>IndiGo</td>\n",
       "      <td>Kolkata</td>\n",
       "      <td>Banglore</td>\n",
       "      <td>CCU → NAG → BLR</td>\n",
       "      <td>18:05</td>\n",
       "      <td>23:30</td>\n",
       "      <td>5h 25m</td>\n",
       "      <td>1 stop</td>\n",
       "      <td>No info</td>\n",
       "      <td>6218</td>\n",
       "      <td>12</td>\n",
       "      <td>5</td>\n",
       "    </tr>\n",
       "    <tr>\n",
       "      <th>4</th>\n",
       "      <td>IndiGo</td>\n",
       "      <td>Banglore</td>\n",
       "      <td>New Delhi</td>\n",
       "      <td>BLR → NAG → DEL</td>\n",
       "      <td>16:50</td>\n",
       "      <td>21:35</td>\n",
       "      <td>4h 45m</td>\n",
       "      <td>1 stop</td>\n",
       "      <td>No info</td>\n",
       "      <td>13302</td>\n",
       "      <td>1</td>\n",
       "      <td>3</td>\n",
       "    </tr>\n",
       "  </tbody>\n",
       "</table>\n",
       "</div>"
      ],
      "text/plain": [
       "       Airline    Source Destination                  Route Dep_Time  \\\n",
       "0       IndiGo  Banglore   New Delhi              BLR → DEL    22:20   \n",
       "1    Air India   Kolkata    Banglore  CCU → IXR → BBI → BLR    05:50   \n",
       "2  Jet Airways     Delhi      Cochin  DEL → LKO → BOM → COK    09:25   \n",
       "3       IndiGo   Kolkata    Banglore        CCU → NAG → BLR    18:05   \n",
       "4       IndiGo  Banglore   New Delhi        BLR → NAG → DEL    16:50   \n",
       "\n",
       "   Arrival_Time Duration Total_Stops Additional_Info  Price  Journey_day  \\\n",
       "0  01:10 22 Mar   2h 50m    non-stop         No info   3897           24   \n",
       "1         13:15   7h 25m     2 stops         No info   7662            1   \n",
       "2  04:25 10 Jun      19h     2 stops         No info  13882            9   \n",
       "3         23:30   5h 25m      1 stop         No info   6218           12   \n",
       "4         21:35   4h 45m      1 stop         No info  13302            1   \n",
       "\n",
       "   Journey_month  \n",
       "0              3  \n",
       "1              5  \n",
       "2              6  \n",
       "3              5  \n",
       "4              3  "
      ]
     },
     "execution_count": 24,
     "metadata": {},
     "output_type": "execute_result"
    }
   ],
   "source": [
    "# The Journey_year column has the same value so we can also drop this column this doesnt create any difference in the end\n",
    "df=df.drop(['Journey_year'],axis=1)\n",
    "df.head()"
   ]
  },
  {
   "cell_type": "code",
   "execution_count": 25,
   "id": "317fdc08",
   "metadata": {},
   "outputs": [
    {
     "data": {
      "text/plain": [
       "1 stop      5625\n",
       "non-stop    3491\n",
       "2 stops     1520\n",
       "3 stops       45\n",
       "4 stops        1\n",
       "Name: Total_Stops, dtype: int64"
      ]
     },
     "execution_count": 25,
     "metadata": {},
     "output_type": "execute_result"
    }
   ],
   "source": [
    "df.Total_Stops.value_counts()"
   ]
  },
  {
   "cell_type": "code",
   "execution_count": 26,
   "id": "2f83a2af",
   "metadata": {},
   "outputs": [],
   "source": [
    "# Total_stops is Ordinal data so we can perform LabelEncoder\n",
    "df=df.replace({'non-stop':0,'1 stop':1,'2 stops':2,'3 stops':3,'4 stops':4})"
   ]
  },
  {
   "cell_type": "code",
   "execution_count": 27,
   "id": "a7944862",
   "metadata": {},
   "outputs": [],
   "source": [
    "# extracting hours and min from arrivasl time and Departute time\n",
    "#Arrival Time\n",
    "df['Arrival_Time']=df['Arrival_Time'].str.split(\" \").str[0]\n",
    "df['Arrival_hour']=df['Arrival_Time'].str.split(\":\").str[0].astype(int)\n",
    "df['Arrival|_min']=df['Arrival_Time'].str.split(\":\").str[1].astype(int)"
   ]
  },
  {
   "cell_type": "code",
   "execution_count": 28,
   "id": "bf4dffde",
   "metadata": {},
   "outputs": [],
   "source": [
    "# we extracted the data from the Arrival_time so we can drop the Arrival_Time column\n",
    "df=df.drop(['Arrival_Time'],axis=1)"
   ]
  },
  {
   "cell_type": "code",
   "execution_count": 29,
   "id": "74d13f97",
   "metadata": {},
   "outputs": [],
   "source": [
    "#Dep_Time\n",
    "df['Dep_hour']=df['Dep_Time'].str.split(\":\").str[0].astype(int)\n",
    "df['Dep_min']=df['Dep_Time'].str.split(':').str[1].astype(int)"
   ]
  },
  {
   "cell_type": "code",
   "execution_count": 30,
   "id": "798376b0",
   "metadata": {},
   "outputs": [],
   "source": [
    "# we extracted the data from the Dep_time so we can drop the Dep_Time column\n",
    "df=df.drop(['Dep_Time'],axis=1)"
   ]
  },
  {
   "cell_type": "code",
   "execution_count": 31,
   "id": "176d0a88",
   "metadata": {},
   "outputs": [],
   "source": [
    "# Time taken by plane to reach destination is called Duration\n",
    "# It is the differnce betwwen Departure Time and Arrival time\n",
    "\n",
    "\n",
    "# Assigning and converting Duration column into list\n",
    "duration = list(df[\"Duration\"])\n",
    "\n",
    "for i in range(len(duration)):\n",
    "    if len(duration[i].split()) != 2:    # Check if duration contains only hour or mins\n",
    "        if \"h\" in duration[i]:\n",
    "            duration[i] = duration[i].strip() + \" 0m\"   # Adds 0 minute\n",
    "        else:\n",
    "            duration[i] = \"0h \" + duration[i]           # Adds 0 hour\n",
    "\n",
    "duration_hours = []\n",
    "duration_mins = []\n",
    "for i in range(len(duration)):\n",
    "    duration_hours.append(int(duration[i].split(sep = \"h\")[0]))    # Extract hours from duration\n",
    "    duration_mins.append(int(duration[i].split(sep = \"m\")[0].split()[-1]))   # Extracts only minutes from duration"
   ]
  },
  {
   "cell_type": "code",
   "execution_count": 32,
   "id": "02c74703",
   "metadata": {},
   "outputs": [],
   "source": [
    "#  Adding duration_hours and duraton_mins \n",
    "df[\"Duration_hr\"]=duration_hours\n",
    "df['Duration_min']=duration_mins"
   ]
  },
  {
   "cell_type": "markdown",
   "id": "7a522690",
   "metadata": {},
   "source": [
    "**Duration column**"
   ]
  },
  {
   "cell_type": "markdown",
   "id": "bfce0915",
   "metadata": {},
   "source": [
    "- Extract hours and min from Duration feature.\n",
    "- Convert hours to min and find total duration in minutes to make it a single column."
   ]
  },
  {
   "cell_type": "code",
   "execution_count": 33,
   "id": "a51ad92c",
   "metadata": {},
   "outputs": [
    {
     "data": {
      "text/plain": [
       "1"
      ]
     },
     "execution_count": 33,
     "metadata": {},
     "output_type": "execute_result"
    }
   ],
   "source": [
    "df[\"Duration_hr\"]=df[\"Duration\"].str.split('h').str[0]\n",
    "df['Duration_hr'].str.contains('m').sum()"
   ]
  },
  {
   "cell_type": "code",
   "execution_count": 34,
   "id": "d81c5c51",
   "metadata": {},
   "outputs": [
    {
     "data": {
      "text/html": [
       "<div>\n",
       "<style scoped>\n",
       "    .dataframe tbody tr th:only-of-type {\n",
       "        vertical-align: middle;\n",
       "    }\n",
       "\n",
       "    .dataframe tbody tr th {\n",
       "        vertical-align: top;\n",
       "    }\n",
       "\n",
       "    .dataframe thead th {\n",
       "        text-align: right;\n",
       "    }\n",
       "</style>\n",
       "<table border=\"1\" class=\"dataframe\">\n",
       "  <thead>\n",
       "    <tr style=\"text-align: right;\">\n",
       "      <th></th>\n",
       "      <th>Airline</th>\n",
       "      <th>Source</th>\n",
       "      <th>Destination</th>\n",
       "      <th>Route</th>\n",
       "      <th>Duration</th>\n",
       "      <th>Total_Stops</th>\n",
       "      <th>Additional_Info</th>\n",
       "      <th>Price</th>\n",
       "      <th>Journey_day</th>\n",
       "      <th>Journey_month</th>\n",
       "      <th>Arrival_hour</th>\n",
       "      <th>Arrival|_min</th>\n",
       "      <th>Dep_hour</th>\n",
       "      <th>Dep_min</th>\n",
       "      <th>Duration_hr</th>\n",
       "      <th>Duration_min</th>\n",
       "    </tr>\n",
       "  </thead>\n",
       "  <tbody>\n",
       "    <tr>\n",
       "      <th>6474</th>\n",
       "      <td>Air India</td>\n",
       "      <td>Mumbai</td>\n",
       "      <td>Hyderabad</td>\n",
       "      <td>BOM → GOI → PNQ → HYD</td>\n",
       "      <td>5m</td>\n",
       "      <td>2</td>\n",
       "      <td>No info</td>\n",
       "      <td>17327</td>\n",
       "      <td>6</td>\n",
       "      <td>3</td>\n",
       "      <td>16</td>\n",
       "      <td>55</td>\n",
       "      <td>16</td>\n",
       "      <td>50</td>\n",
       "      <td>5m</td>\n",
       "      <td>5</td>\n",
       "    </tr>\n",
       "  </tbody>\n",
       "</table>\n",
       "</div>"
      ],
      "text/plain": [
       "        Airline  Source Destination                  Route Duration  \\\n",
       "6474  Air India  Mumbai   Hyderabad  BOM → GOI → PNQ → HYD       5m   \n",
       "\n",
       "      Total_Stops Additional_Info  Price  Journey_day  Journey_month  \\\n",
       "6474            2         No info  17327            6              3   \n",
       "\n",
       "      Arrival_hour  Arrival|_min  Dep_hour  Dep_min Duration_hr  Duration_min  \n",
       "6474            16            55        16       50          5m             5  "
      ]
     },
     "execution_count": 34,
     "metadata": {},
     "output_type": "execute_result"
    }
   ],
   "source": [
    "df[df['Duration_hr'].str.contains('m')]"
   ]
  },
  {
   "cell_type": "code",
   "execution_count": 35,
   "id": "095d99ef",
   "metadata": {},
   "outputs": [],
   "source": [
    "df[\"Duration_hr\"]=df[\"Duration_hr\"].replace(\"5m\",\"0\")"
   ]
  },
  {
   "cell_type": "code",
   "execution_count": 36,
   "id": "b0607677",
   "metadata": {},
   "outputs": [],
   "source": [
    "df[\"Duration\"]=(df[\"Duration_hr\"].astype(int)*60) + df[\"Duration_min\"].astype(int)"
   ]
  },
  {
   "cell_type": "code",
   "execution_count": 37,
   "id": "e1af67dd",
   "metadata": {
    "scrolled": true
   },
   "outputs": [
    {
     "data": {
      "text/html": [
       "<div>\n",
       "<style scoped>\n",
       "    .dataframe tbody tr th:only-of-type {\n",
       "        vertical-align: middle;\n",
       "    }\n",
       "\n",
       "    .dataframe tbody tr th {\n",
       "        vertical-align: top;\n",
       "    }\n",
       "\n",
       "    .dataframe thead th {\n",
       "        text-align: right;\n",
       "    }\n",
       "</style>\n",
       "<table border=\"1\" class=\"dataframe\">\n",
       "  <thead>\n",
       "    <tr style=\"text-align: right;\">\n",
       "      <th></th>\n",
       "      <th>Airline</th>\n",
       "      <th>Source</th>\n",
       "      <th>Destination</th>\n",
       "      <th>Route</th>\n",
       "      <th>Duration</th>\n",
       "      <th>Total_Stops</th>\n",
       "      <th>Additional_Info</th>\n",
       "      <th>Price</th>\n",
       "      <th>Journey_day</th>\n",
       "      <th>Journey_month</th>\n",
       "      <th>Arrival_hour</th>\n",
       "      <th>Arrival|_min</th>\n",
       "      <th>Dep_hour</th>\n",
       "      <th>Dep_min</th>\n",
       "    </tr>\n",
       "  </thead>\n",
       "  <tbody>\n",
       "    <tr>\n",
       "      <th>0</th>\n",
       "      <td>IndiGo</td>\n",
       "      <td>Banglore</td>\n",
       "      <td>New Delhi</td>\n",
       "      <td>BLR → DEL</td>\n",
       "      <td>170</td>\n",
       "      <td>0</td>\n",
       "      <td>No info</td>\n",
       "      <td>3897</td>\n",
       "      <td>24</td>\n",
       "      <td>3</td>\n",
       "      <td>1</td>\n",
       "      <td>10</td>\n",
       "      <td>22</td>\n",
       "      <td>20</td>\n",
       "    </tr>\n",
       "    <tr>\n",
       "      <th>1</th>\n",
       "      <td>Air India</td>\n",
       "      <td>Kolkata</td>\n",
       "      <td>Banglore</td>\n",
       "      <td>CCU → IXR → BBI → BLR</td>\n",
       "      <td>445</td>\n",
       "      <td>2</td>\n",
       "      <td>No info</td>\n",
       "      <td>7662</td>\n",
       "      <td>1</td>\n",
       "      <td>5</td>\n",
       "      <td>13</td>\n",
       "      <td>15</td>\n",
       "      <td>5</td>\n",
       "      <td>50</td>\n",
       "    </tr>\n",
       "    <tr>\n",
       "      <th>2</th>\n",
       "      <td>Jet Airways</td>\n",
       "      <td>Delhi</td>\n",
       "      <td>Cochin</td>\n",
       "      <td>DEL → LKO → BOM → COK</td>\n",
       "      <td>1140</td>\n",
       "      <td>2</td>\n",
       "      <td>No info</td>\n",
       "      <td>13882</td>\n",
       "      <td>9</td>\n",
       "      <td>6</td>\n",
       "      <td>4</td>\n",
       "      <td>25</td>\n",
       "      <td>9</td>\n",
       "      <td>25</td>\n",
       "    </tr>\n",
       "    <tr>\n",
       "      <th>3</th>\n",
       "      <td>IndiGo</td>\n",
       "      <td>Kolkata</td>\n",
       "      <td>Banglore</td>\n",
       "      <td>CCU → NAG → BLR</td>\n",
       "      <td>325</td>\n",
       "      <td>1</td>\n",
       "      <td>No info</td>\n",
       "      <td>6218</td>\n",
       "      <td>12</td>\n",
       "      <td>5</td>\n",
       "      <td>23</td>\n",
       "      <td>30</td>\n",
       "      <td>18</td>\n",
       "      <td>5</td>\n",
       "    </tr>\n",
       "    <tr>\n",
       "      <th>4</th>\n",
       "      <td>IndiGo</td>\n",
       "      <td>Banglore</td>\n",
       "      <td>New Delhi</td>\n",
       "      <td>BLR → NAG → DEL</td>\n",
       "      <td>285</td>\n",
       "      <td>1</td>\n",
       "      <td>No info</td>\n",
       "      <td>13302</td>\n",
       "      <td>1</td>\n",
       "      <td>3</td>\n",
       "      <td>21</td>\n",
       "      <td>35</td>\n",
       "      <td>16</td>\n",
       "      <td>50</td>\n",
       "    </tr>\n",
       "  </tbody>\n",
       "</table>\n",
       "</div>"
      ],
      "text/plain": [
       "       Airline    Source Destination                  Route  Duration  \\\n",
       "0       IndiGo  Banglore   New Delhi              BLR → DEL       170   \n",
       "1    Air India   Kolkata    Banglore  CCU → IXR → BBI → BLR       445   \n",
       "2  Jet Airways     Delhi      Cochin  DEL → LKO → BOM → COK      1140   \n",
       "3       IndiGo   Kolkata    Banglore        CCU → NAG → BLR       325   \n",
       "4       IndiGo  Banglore   New Delhi        BLR → NAG → DEL       285   \n",
       "\n",
       "   Total_Stops Additional_Info  Price  Journey_day  Journey_month  \\\n",
       "0            0         No info   3897           24              3   \n",
       "1            2         No info   7662            1              5   \n",
       "2            2         No info  13882            9              6   \n",
       "3            1         No info   6218           12              5   \n",
       "4            1         No info  13302            1              3   \n",
       "\n",
       "   Arrival_hour  Arrival|_min  Dep_hour  Dep_min  \n",
       "0             1            10        22       20  \n",
       "1            13            15         5       50  \n",
       "2             4            25         9       25  \n",
       "3            23            30        18        5  \n",
       "4            21            35        16       50  "
      ]
     },
     "execution_count": 37,
     "metadata": {},
     "output_type": "execute_result"
    }
   ],
   "source": [
    "df=df.drop(['Duration_hr','Duration_min'],axis=1)\n",
    "df.head()"
   ]
  },
  {
   "cell_type": "code",
   "execution_count": 38,
   "id": "9aced0e3",
   "metadata": {},
   "outputs": [],
   "source": [
    "df=df.drop(['Route','Additional_Info'],axis=1)"
   ]
  },
  {
   "cell_type": "markdown",
   "id": "1c270753",
   "metadata": {},
   "source": [
    "### Using Encoding to Handle Categorical Data"
   ]
  },
  {
   "cell_type": "markdown",
   "id": "3a170cd1",
   "metadata": {},
   "source": [
    "**Features with Categorical Data**"
   ]
  },
  {
   "cell_type": "code",
   "execution_count": 39,
   "id": "09248de0",
   "metadata": {},
   "outputs": [],
   "source": [
    "from sklearn.preprocessing import LabelEncoder\n",
    "la=LabelEncoder()"
   ]
  },
  {
   "cell_type": "code",
   "execution_count": 40,
   "id": "519d5d79",
   "metadata": {},
   "outputs": [
    {
     "data": {
      "text/html": [
       "<div>\n",
       "<style scoped>\n",
       "    .dataframe tbody tr th:only-of-type {\n",
       "        vertical-align: middle;\n",
       "    }\n",
       "\n",
       "    .dataframe tbody tr th {\n",
       "        vertical-align: top;\n",
       "    }\n",
       "\n",
       "    .dataframe thead th {\n",
       "        text-align: right;\n",
       "    }\n",
       "</style>\n",
       "<table border=\"1\" class=\"dataframe\">\n",
       "  <thead>\n",
       "    <tr style=\"text-align: right;\">\n",
       "      <th></th>\n",
       "      <th>Airline</th>\n",
       "      <th>Source</th>\n",
       "      <th>Destination</th>\n",
       "      <th>Duration</th>\n",
       "      <th>Total_Stops</th>\n",
       "      <th>Price</th>\n",
       "      <th>Journey_day</th>\n",
       "      <th>Journey_month</th>\n",
       "      <th>Arrival_hour</th>\n",
       "      <th>Arrival|_min</th>\n",
       "      <th>Dep_hour</th>\n",
       "      <th>Dep_min</th>\n",
       "    </tr>\n",
       "  </thead>\n",
       "  <tbody>\n",
       "    <tr>\n",
       "      <th>0</th>\n",
       "      <td>3</td>\n",
       "      <td>0</td>\n",
       "      <td>5</td>\n",
       "      <td>170</td>\n",
       "      <td>0</td>\n",
       "      <td>3897</td>\n",
       "      <td>24</td>\n",
       "      <td>3</td>\n",
       "      <td>1</td>\n",
       "      <td>10</td>\n",
       "      <td>22</td>\n",
       "      <td>20</td>\n",
       "    </tr>\n",
       "    <tr>\n",
       "      <th>1</th>\n",
       "      <td>1</td>\n",
       "      <td>3</td>\n",
       "      <td>0</td>\n",
       "      <td>445</td>\n",
       "      <td>2</td>\n",
       "      <td>7662</td>\n",
       "      <td>1</td>\n",
       "      <td>5</td>\n",
       "      <td>13</td>\n",
       "      <td>15</td>\n",
       "      <td>5</td>\n",
       "      <td>50</td>\n",
       "    </tr>\n",
       "    <tr>\n",
       "      <th>2</th>\n",
       "      <td>4</td>\n",
       "      <td>2</td>\n",
       "      <td>1</td>\n",
       "      <td>1140</td>\n",
       "      <td>2</td>\n",
       "      <td>13882</td>\n",
       "      <td>9</td>\n",
       "      <td>6</td>\n",
       "      <td>4</td>\n",
       "      <td>25</td>\n",
       "      <td>9</td>\n",
       "      <td>25</td>\n",
       "    </tr>\n",
       "    <tr>\n",
       "      <th>3</th>\n",
       "      <td>3</td>\n",
       "      <td>3</td>\n",
       "      <td>0</td>\n",
       "      <td>325</td>\n",
       "      <td>1</td>\n",
       "      <td>6218</td>\n",
       "      <td>12</td>\n",
       "      <td>5</td>\n",
       "      <td>23</td>\n",
       "      <td>30</td>\n",
       "      <td>18</td>\n",
       "      <td>5</td>\n",
       "    </tr>\n",
       "    <tr>\n",
       "      <th>4</th>\n",
       "      <td>3</td>\n",
       "      <td>0</td>\n",
       "      <td>5</td>\n",
       "      <td>285</td>\n",
       "      <td>1</td>\n",
       "      <td>13302</td>\n",
       "      <td>1</td>\n",
       "      <td>3</td>\n",
       "      <td>21</td>\n",
       "      <td>35</td>\n",
       "      <td>16</td>\n",
       "      <td>50</td>\n",
       "    </tr>\n",
       "  </tbody>\n",
       "</table>\n",
       "</div>"
      ],
      "text/plain": [
       "   Airline  Source  Destination  Duration  Total_Stops  Price  Journey_day  \\\n",
       "0        3       0            5       170            0   3897           24   \n",
       "1        1       3            0       445            2   7662            1   \n",
       "2        4       2            1      1140            2  13882            9   \n",
       "3        3       3            0       325            1   6218           12   \n",
       "4        3       0            5       285            1  13302            1   \n",
       "\n",
       "   Journey_month  Arrival_hour  Arrival|_min  Dep_hour  Dep_min  \n",
       "0              3             1            10        22       20  \n",
       "1              5            13            15         5       50  \n",
       "2              6             4            25         9       25  \n",
       "3              5            23            30        18        5  \n",
       "4              3            21            35        16       50  "
      ]
     },
     "execution_count": 40,
     "metadata": {},
     "output_type": "execute_result"
    }
   ],
   "source": [
    "for i in ['Airline','Source','Destination']:\n",
    "    df[i]=la.fit_transform(df[i])\n",
    "df.head()"
   ]
  },
  {
   "cell_type": "markdown",
   "id": "4b649aee",
   "metadata": {},
   "source": [
    "###### Route column"
   ]
  },
  {
   "cell_type": "markdown",
   "id": "c2e817b4",
   "metadata": {},
   "source": [
    "- The route column tells about the journey's path.\n",
    "- Route column can be removed because 'Total_Stops' field has alreadycaptured this value and both are related.        \n"
   ]
  },
  {
   "cell_type": "markdown",
   "id": "aa297048",
   "metadata": {},
   "source": [
    "**'Additional_Info' column can be dropped since more than 70% of them have no information.**"
   ]
  },
  {
   "cell_type": "markdown",
   "id": "0371c4be",
   "metadata": {},
   "source": [
    "**Checking for corelation between the features via heatmap**"
   ]
  },
  {
   "cell_type": "code",
   "execution_count": 41,
   "id": "50223481",
   "metadata": {},
   "outputs": [
    {
     "data": {
      "image/png": "[encoded data removed]",
      "text/plain": [
       "<Figure size 1500x1000 with 2 Axes>"
      ]
     },
     "metadata": {},
     "output_type": "display_data"
    }
   ],
   "source": [
    "plt.figure(figsize=(15,10))\n",
    "sns.heatmap(df.corr(),cmap='RdYlGn',annot=True)\n",
    "plt.title('Corelation between Features')\n",
    "plt.show()"
   ]
  },
  {
   "cell_type": "markdown",
   "id": "a4e0772a",
   "metadata": {},
   "source": [
    "##### There is a high corelation between:\n",
    "\n",
    "- Price & total_stops\n",
    "- Price & duration of the flight\n",
    "- Duration & Total_stops"
   ]
  },
  {
   "cell_type": "markdown",
   "id": "271db9f3",
   "metadata": {},
   "source": [
    "There is no-corelation between Source & destination"
   ]
  },
  {
   "cell_type": "markdown",
   "id": "683b22b7",
   "metadata": {},
   "source": [
    "**Comparing the accuracies got from these 3 models and hyperparameter tuning for that ML Algorithm to improve its efficiency**"
   ]
  },
  {
   "cell_type": "code",
   "execution_count": 42,
   "id": "841c006e",
   "metadata": {},
   "outputs": [],
   "source": [
    "# splitting ths data into training data and testing data\n",
    "x=df.drop(['Price'],axis=1)\n",
    "y=df.Price"
   ]
  },
  {
   "cell_type": "code",
   "execution_count": 43,
   "id": "fa431b89",
   "metadata": {},
   "outputs": [
    {
     "data": {
      "text/html": [
       "<div>\n",
       "<style scoped>\n",
       "    .dataframe tbody tr th:only-of-type {\n",
       "        vertical-align: middle;\n",
       "    }\n",
       "\n",
       "    .dataframe tbody tr th {\n",
       "        vertical-align: top;\n",
       "    }\n",
       "\n",
       "    .dataframe thead th {\n",
       "        text-align: right;\n",
       "    }\n",
       "</style>\n",
       "<table border=\"1\" class=\"dataframe\">\n",
       "  <thead>\n",
       "    <tr style=\"text-align: right;\">\n",
       "      <th></th>\n",
       "      <th>Airline</th>\n",
       "      <th>Source</th>\n",
       "      <th>Destination</th>\n",
       "      <th>Duration</th>\n",
       "      <th>Total_Stops</th>\n",
       "      <th>Journey_day</th>\n",
       "      <th>Journey_month</th>\n",
       "      <th>Arrival_hour</th>\n",
       "      <th>Arrival|_min</th>\n",
       "      <th>Dep_hour</th>\n",
       "      <th>Dep_min</th>\n",
       "    </tr>\n",
       "  </thead>\n",
       "  <tbody>\n",
       "    <tr>\n",
       "      <th>0</th>\n",
       "      <td>3</td>\n",
       "      <td>0</td>\n",
       "      <td>5</td>\n",
       "      <td>170</td>\n",
       "      <td>0</td>\n",
       "      <td>24</td>\n",
       "      <td>3</td>\n",
       "      <td>1</td>\n",
       "      <td>10</td>\n",
       "      <td>22</td>\n",
       "      <td>20</td>\n",
       "    </tr>\n",
       "    <tr>\n",
       "      <th>1</th>\n",
       "      <td>1</td>\n",
       "      <td>3</td>\n",
       "      <td>0</td>\n",
       "      <td>445</td>\n",
       "      <td>2</td>\n",
       "      <td>1</td>\n",
       "      <td>5</td>\n",
       "      <td>13</td>\n",
       "      <td>15</td>\n",
       "      <td>5</td>\n",
       "      <td>50</td>\n",
       "    </tr>\n",
       "    <tr>\n",
       "      <th>2</th>\n",
       "      <td>4</td>\n",
       "      <td>2</td>\n",
       "      <td>1</td>\n",
       "      <td>1140</td>\n",
       "      <td>2</td>\n",
       "      <td>9</td>\n",
       "      <td>6</td>\n",
       "      <td>4</td>\n",
       "      <td>25</td>\n",
       "      <td>9</td>\n",
       "      <td>25</td>\n",
       "    </tr>\n",
       "    <tr>\n",
       "      <th>3</th>\n",
       "      <td>3</td>\n",
       "      <td>3</td>\n",
       "      <td>0</td>\n",
       "      <td>325</td>\n",
       "      <td>1</td>\n",
       "      <td>12</td>\n",
       "      <td>5</td>\n",
       "      <td>23</td>\n",
       "      <td>30</td>\n",
       "      <td>18</td>\n",
       "      <td>5</td>\n",
       "    </tr>\n",
       "    <tr>\n",
       "      <th>4</th>\n",
       "      <td>3</td>\n",
       "      <td>0</td>\n",
       "      <td>5</td>\n",
       "      <td>285</td>\n",
       "      <td>1</td>\n",
       "      <td>1</td>\n",
       "      <td>3</td>\n",
       "      <td>21</td>\n",
       "      <td>35</td>\n",
       "      <td>16</td>\n",
       "      <td>50</td>\n",
       "    </tr>\n",
       "    <tr>\n",
       "      <th>...</th>\n",
       "      <td>...</td>\n",
       "      <td>...</td>\n",
       "      <td>...</td>\n",
       "      <td>...</td>\n",
       "      <td>...</td>\n",
       "      <td>...</td>\n",
       "      <td>...</td>\n",
       "      <td>...</td>\n",
       "      <td>...</td>\n",
       "      <td>...</td>\n",
       "      <td>...</td>\n",
       "    </tr>\n",
       "    <tr>\n",
       "      <th>10678</th>\n",
       "      <td>0</td>\n",
       "      <td>3</td>\n",
       "      <td>0</td>\n",
       "      <td>150</td>\n",
       "      <td>0</td>\n",
       "      <td>9</td>\n",
       "      <td>4</td>\n",
       "      <td>22</td>\n",
       "      <td>25</td>\n",
       "      <td>19</td>\n",
       "      <td>55</td>\n",
       "    </tr>\n",
       "    <tr>\n",
       "      <th>10679</th>\n",
       "      <td>1</td>\n",
       "      <td>3</td>\n",
       "      <td>0</td>\n",
       "      <td>155</td>\n",
       "      <td>0</td>\n",
       "      <td>27</td>\n",
       "      <td>4</td>\n",
       "      <td>23</td>\n",
       "      <td>20</td>\n",
       "      <td>20</td>\n",
       "      <td>45</td>\n",
       "    </tr>\n",
       "    <tr>\n",
       "      <th>10680</th>\n",
       "      <td>4</td>\n",
       "      <td>0</td>\n",
       "      <td>2</td>\n",
       "      <td>180</td>\n",
       "      <td>0</td>\n",
       "      <td>27</td>\n",
       "      <td>4</td>\n",
       "      <td>11</td>\n",
       "      <td>20</td>\n",
       "      <td>8</td>\n",
       "      <td>20</td>\n",
       "    </tr>\n",
       "    <tr>\n",
       "      <th>10681</th>\n",
       "      <td>10</td>\n",
       "      <td>0</td>\n",
       "      <td>5</td>\n",
       "      <td>160</td>\n",
       "      <td>0</td>\n",
       "      <td>1</td>\n",
       "      <td>3</td>\n",
       "      <td>14</td>\n",
       "      <td>10</td>\n",
       "      <td>11</td>\n",
       "      <td>30</td>\n",
       "    </tr>\n",
       "    <tr>\n",
       "      <th>10682</th>\n",
       "      <td>1</td>\n",
       "      <td>2</td>\n",
       "      <td>1</td>\n",
       "      <td>500</td>\n",
       "      <td>2</td>\n",
       "      <td>9</td>\n",
       "      <td>5</td>\n",
       "      <td>19</td>\n",
       "      <td>15</td>\n",
       "      <td>10</td>\n",
       "      <td>55</td>\n",
       "    </tr>\n",
       "  </tbody>\n",
       "</table>\n",
       "<p>10682 rows × 11 columns</p>\n",
       "</div>"
      ],
      "text/plain": [
       "       Airline  Source  Destination  Duration  Total_Stops  Journey_day  \\\n",
       "0            3       0            5       170            0           24   \n",
       "1            1       3            0       445            2            1   \n",
       "2            4       2            1      1140            2            9   \n",
       "3            3       3            0       325            1           12   \n",
       "4            3       0            5       285            1            1   \n",
       "...        ...     ...          ...       ...          ...          ...   \n",
       "10678        0       3            0       150            0            9   \n",
       "10679        1       3            0       155            0           27   \n",
       "10680        4       0            2       180            0           27   \n",
       "10681       10       0            5       160            0            1   \n",
       "10682        1       2            1       500            2            9   \n",
       "\n",
       "       Journey_month  Arrival_hour  Arrival|_min  Dep_hour  Dep_min  \n",
       "0                  3             1            10        22       20  \n",
       "1                  5            13            15         5       50  \n",
       "2                  6             4            25         9       25  \n",
       "3                  5            23            30        18        5  \n",
       "4                  3            21            35        16       50  \n",
       "...              ...           ...           ...       ...      ...  \n",
       "10678              4            22            25        19       55  \n",
       "10679              4            23            20        20       45  \n",
       "10680              4            11            20         8       20  \n",
       "10681              3            14            10        11       30  \n",
       "10682              5            19            15        10       55  \n",
       "\n",
       "[10682 rows x 11 columns]"
      ]
     },
     "execution_count": 43,
     "metadata": {},
     "output_type": "execute_result"
    }
   ],
   "source": [
    "x"
   ]
  },
  {
   "cell_type": "code",
   "execution_count": 44,
   "id": "6934159c",
   "metadata": {},
   "outputs": [
    {
     "data": {
      "text/plain": [
       "0         3897\n",
       "1         7662\n",
       "2        13882\n",
       "3         6218\n",
       "4        13302\n",
       "         ...  \n",
       "10678     4107\n",
       "10679     4145\n",
       "10680     7229\n",
       "10681    12648\n",
       "10682    11753\n",
       "Name: Price, Length: 10682, dtype: int64"
      ]
     },
     "execution_count": 44,
     "metadata": {},
     "output_type": "execute_result"
    }
   ],
   "source": [
    "y"
   ]
  },
  {
   "cell_type": "markdown",
   "id": "140b124e",
   "metadata": {},
   "source": [
    "**Spliting the data into training data and testing data**"
   ]
  },
  {
   "cell_type": "code",
   "execution_count": 45,
   "id": "66f5ceac",
   "metadata": {},
   "outputs": [],
   "source": [
    "from sklearn.model_selection import train_test_split"
   ]
  },
  {
   "cell_type": "code",
   "execution_count": 46,
   "id": "7f35c8a1",
   "metadata": {},
   "outputs": [],
   "source": [
    "x_train,x_test,y_train,y_test=train_test_split(x,y,test_size=0.25,random_state=42)"
   ]
  },
  {
   "cell_type": "code",
   "execution_count": 47,
   "id": "a09917d8",
   "metadata": {},
   "outputs": [
    {
     "data": {
      "text/html": [
       "<div>\n",
       "<style scoped>\n",
       "    .dataframe tbody tr th:only-of-type {\n",
       "        vertical-align: middle;\n",
       "    }\n",
       "\n",
       "    .dataframe tbody tr th {\n",
       "        vertical-align: top;\n",
       "    }\n",
       "\n",
       "    .dataframe thead th {\n",
       "        text-align: right;\n",
       "    }\n",
       "</style>\n",
       "<table border=\"1\" class=\"dataframe\">\n",
       "  <thead>\n",
       "    <tr style=\"text-align: right;\">\n",
       "      <th></th>\n",
       "      <th>Airline</th>\n",
       "      <th>Source</th>\n",
       "      <th>Destination</th>\n",
       "      <th>Duration</th>\n",
       "      <th>Total_Stops</th>\n",
       "      <th>Journey_day</th>\n",
       "      <th>Journey_month</th>\n",
       "      <th>Arrival_hour</th>\n",
       "      <th>Arrival|_min</th>\n",
       "      <th>Dep_hour</th>\n",
       "      <th>Dep_min</th>\n",
       "    </tr>\n",
       "  </thead>\n",
       "  <tbody>\n",
       "    <tr>\n",
       "      <th>752</th>\n",
       "      <td>3</td>\n",
       "      <td>2</td>\n",
       "      <td>1</td>\n",
       "      <td>300</td>\n",
       "      <td>1</td>\n",
       "      <td>27</td>\n",
       "      <td>5</td>\n",
       "      <td>21</td>\n",
       "      <td>0</td>\n",
       "      <td>16</td>\n",
       "      <td>0</td>\n",
       "    </tr>\n",
       "    <tr>\n",
       "      <th>7430</th>\n",
       "      <td>3</td>\n",
       "      <td>3</td>\n",
       "      <td>0</td>\n",
       "      <td>155</td>\n",
       "      <td>0</td>\n",
       "      <td>6</td>\n",
       "      <td>3</td>\n",
       "      <td>17</td>\n",
       "      <td>45</td>\n",
       "      <td>15</td>\n",
       "      <td>10</td>\n",
       "    </tr>\n",
       "    <tr>\n",
       "      <th>5478</th>\n",
       "      <td>4</td>\n",
       "      <td>3</td>\n",
       "      <td>0</td>\n",
       "      <td>1495</td>\n",
       "      <td>1</td>\n",
       "      <td>12</td>\n",
       "      <td>6</td>\n",
       "      <td>19</td>\n",
       "      <td>50</td>\n",
       "      <td>18</td>\n",
       "      <td>55</td>\n",
       "    </tr>\n",
       "    <tr>\n",
       "      <th>3445</th>\n",
       "      <td>4</td>\n",
       "      <td>2</td>\n",
       "      <td>1</td>\n",
       "      <td>1015</td>\n",
       "      <td>1</td>\n",
       "      <td>6</td>\n",
       "      <td>6</td>\n",
       "      <td>4</td>\n",
       "      <td>25</td>\n",
       "      <td>11</td>\n",
       "      <td>30</td>\n",
       "    </tr>\n",
       "    <tr>\n",
       "      <th>9126</th>\n",
       "      <td>4</td>\n",
       "      <td>2</td>\n",
       "      <td>1</td>\n",
       "      <td>450</td>\n",
       "      <td>1</td>\n",
       "      <td>9</td>\n",
       "      <td>5</td>\n",
       "      <td>4</td>\n",
       "      <td>25</td>\n",
       "      <td>20</td>\n",
       "      <td>55</td>\n",
       "    </tr>\n",
       "    <tr>\n",
       "      <th>...</th>\n",
       "      <td>...</td>\n",
       "      <td>...</td>\n",
       "      <td>...</td>\n",
       "      <td>...</td>\n",
       "      <td>...</td>\n",
       "      <td>...</td>\n",
       "      <td>...</td>\n",
       "      <td>...</td>\n",
       "      <td>...</td>\n",
       "      <td>...</td>\n",
       "      <td>...</td>\n",
       "    </tr>\n",
       "    <tr>\n",
       "      <th>5734</th>\n",
       "      <td>4</td>\n",
       "      <td>2</td>\n",
       "      <td>1</td>\n",
       "      <td>1165</td>\n",
       "      <td>1</td>\n",
       "      <td>27</td>\n",
       "      <td>3</td>\n",
       "      <td>4</td>\n",
       "      <td>25</td>\n",
       "      <td>9</td>\n",
       "      <td>0</td>\n",
       "    </tr>\n",
       "    <tr>\n",
       "      <th>5191</th>\n",
       "      <td>4</td>\n",
       "      <td>3</td>\n",
       "      <td>0</td>\n",
       "      <td>400</td>\n",
       "      <td>1</td>\n",
       "      <td>9</td>\n",
       "      <td>5</td>\n",
       "      <td>20</td>\n",
       "      <td>45</td>\n",
       "      <td>14</td>\n",
       "      <td>5</td>\n",
       "    </tr>\n",
       "    <tr>\n",
       "      <th>5390</th>\n",
       "      <td>6</td>\n",
       "      <td>2</td>\n",
       "      <td>1</td>\n",
       "      <td>760</td>\n",
       "      <td>1</td>\n",
       "      <td>15</td>\n",
       "      <td>5</td>\n",
       "      <td>1</td>\n",
       "      <td>30</td>\n",
       "      <td>12</td>\n",
       "      <td>50</td>\n",
       "    </tr>\n",
       "    <tr>\n",
       "      <th>860</th>\n",
       "      <td>3</td>\n",
       "      <td>0</td>\n",
       "      <td>5</td>\n",
       "      <td>165</td>\n",
       "      <td>0</td>\n",
       "      <td>3</td>\n",
       "      <td>3</td>\n",
       "      <td>3</td>\n",
       "      <td>25</td>\n",
       "      <td>0</td>\n",
       "      <td>40</td>\n",
       "    </tr>\n",
       "    <tr>\n",
       "      <th>7270</th>\n",
       "      <td>4</td>\n",
       "      <td>2</td>\n",
       "      <td>1</td>\n",
       "      <td>925</td>\n",
       "      <td>1</td>\n",
       "      <td>1</td>\n",
       "      <td>6</td>\n",
       "      <td>4</td>\n",
       "      <td>25</td>\n",
       "      <td>13</td>\n",
       "      <td>0</td>\n",
       "    </tr>\n",
       "  </tbody>\n",
       "</table>\n",
       "<p>8011 rows × 11 columns</p>\n",
       "</div>"
      ],
      "text/plain": [
       "      Airline  Source  Destination  Duration  Total_Stops  Journey_day  \\\n",
       "752         3       2            1       300            1           27   \n",
       "7430        3       3            0       155            0            6   \n",
       "5478        4       3            0      1495            1           12   \n",
       "3445        4       2            1      1015            1            6   \n",
       "9126        4       2            1       450            1            9   \n",
       "...       ...     ...          ...       ...          ...          ...   \n",
       "5734        4       2            1      1165            1           27   \n",
       "5191        4       3            0       400            1            9   \n",
       "5390        6       2            1       760            1           15   \n",
       "860         3       0            5       165            0            3   \n",
       "7270        4       2            1       925            1            1   \n",
       "\n",
       "      Journey_month  Arrival_hour  Arrival|_min  Dep_hour  Dep_min  \n",
       "752               5            21             0        16        0  \n",
       "7430              3            17            45        15       10  \n",
       "5478              6            19            50        18       55  \n",
       "3445              6             4            25        11       30  \n",
       "9126              5             4            25        20       55  \n",
       "...             ...           ...           ...       ...      ...  \n",
       "5734              3             4            25         9        0  \n",
       "5191              5            20            45        14        5  \n",
       "5390              5             1            30        12       50  \n",
       "860               3             3            25         0       40  \n",
       "7270              6             4            25        13        0  \n",
       "\n",
       "[8011 rows x 11 columns]"
      ]
     },
     "execution_count": 47,
     "metadata": {},
     "output_type": "execute_result"
    }
   ],
   "source": [
    "x_train"
   ]
  },
  {
   "cell_type": "code",
   "execution_count": 48,
   "id": "40161bdd",
   "metadata": {},
   "outputs": [
    {
     "data": {
      "text/html": [
       "<div>\n",
       "<style scoped>\n",
       "    .dataframe tbody tr th:only-of-type {\n",
       "        vertical-align: middle;\n",
       "    }\n",
       "\n",
       "    .dataframe tbody tr th {\n",
       "        vertical-align: top;\n",
       "    }\n",
       "\n",
       "    .dataframe thead th {\n",
       "        text-align: right;\n",
       "    }\n",
       "</style>\n",
       "<table border=\"1\" class=\"dataframe\">\n",
       "  <thead>\n",
       "    <tr style=\"text-align: right;\">\n",
       "      <th></th>\n",
       "      <th>Airline</th>\n",
       "      <th>Source</th>\n",
       "      <th>Destination</th>\n",
       "      <th>Duration</th>\n",
       "      <th>Total_Stops</th>\n",
       "      <th>Journey_day</th>\n",
       "      <th>Journey_month</th>\n",
       "      <th>Arrival_hour</th>\n",
       "      <th>Arrival|_min</th>\n",
       "      <th>Dep_hour</th>\n",
       "      <th>Dep_min</th>\n",
       "    </tr>\n",
       "  </thead>\n",
       "  <tbody>\n",
       "    <tr>\n",
       "      <th>6075</th>\n",
       "      <td>6</td>\n",
       "      <td>2</td>\n",
       "      <td>1</td>\n",
       "      <td>625</td>\n",
       "      <td>2</td>\n",
       "      <td>21</td>\n",
       "      <td>5</td>\n",
       "      <td>1</td>\n",
       "      <td>30</td>\n",
       "      <td>15</td>\n",
       "      <td>5</td>\n",
       "    </tr>\n",
       "    <tr>\n",
       "      <th>3544</th>\n",
       "      <td>2</td>\n",
       "      <td>2</td>\n",
       "      <td>1</td>\n",
       "      <td>540</td>\n",
       "      <td>1</td>\n",
       "      <td>3</td>\n",
       "      <td>6</td>\n",
       "      <td>19</td>\n",
       "      <td>35</td>\n",
       "      <td>10</td>\n",
       "      <td>35</td>\n",
       "    </tr>\n",
       "    <tr>\n",
       "      <th>9291</th>\n",
       "      <td>10</td>\n",
       "      <td>3</td>\n",
       "      <td>0</td>\n",
       "      <td>765</td>\n",
       "      <td>1</td>\n",
       "      <td>9</td>\n",
       "      <td>5</td>\n",
       "      <td>9</td>\n",
       "      <td>5</td>\n",
       "      <td>20</td>\n",
       "      <td>20</td>\n",
       "    </tr>\n",
       "    <tr>\n",
       "      <th>5032</th>\n",
       "      <td>3</td>\n",
       "      <td>1</td>\n",
       "      <td>4</td>\n",
       "      <td>140</td>\n",
       "      <td>0</td>\n",
       "      <td>24</td>\n",
       "      <td>5</td>\n",
       "      <td>17</td>\n",
       "      <td>5</td>\n",
       "      <td>14</td>\n",
       "      <td>45</td>\n",
       "    </tr>\n",
       "    <tr>\n",
       "      <th>2483</th>\n",
       "      <td>4</td>\n",
       "      <td>2</td>\n",
       "      <td>1</td>\n",
       "      <td>335</td>\n",
       "      <td>1</td>\n",
       "      <td>21</td>\n",
       "      <td>5</td>\n",
       "      <td>4</td>\n",
       "      <td>25</td>\n",
       "      <td>22</td>\n",
       "      <td>50</td>\n",
       "    </tr>\n",
       "    <tr>\n",
       "      <th>...</th>\n",
       "      <td>...</td>\n",
       "      <td>...</td>\n",
       "      <td>...</td>\n",
       "      <td>...</td>\n",
       "      <td>...</td>\n",
       "      <td>...</td>\n",
       "      <td>...</td>\n",
       "      <td>...</td>\n",
       "      <td>...</td>\n",
       "      <td>...</td>\n",
       "      <td>...</td>\n",
       "    </tr>\n",
       "    <tr>\n",
       "      <th>3022</th>\n",
       "      <td>4</td>\n",
       "      <td>0</td>\n",
       "      <td>5</td>\n",
       "      <td>365</td>\n",
       "      <td>1</td>\n",
       "      <td>18</td>\n",
       "      <td>3</td>\n",
       "      <td>23</td>\n",
       "      <td>0</td>\n",
       "      <td>16</td>\n",
       "      <td>55</td>\n",
       "    </tr>\n",
       "    <tr>\n",
       "      <th>8416</th>\n",
       "      <td>1</td>\n",
       "      <td>2</td>\n",
       "      <td>1</td>\n",
       "      <td>1420</td>\n",
       "      <td>2</td>\n",
       "      <td>3</td>\n",
       "      <td>3</td>\n",
       "      <td>9</td>\n",
       "      <td>25</td>\n",
       "      <td>9</td>\n",
       "      <td>45</td>\n",
       "    </tr>\n",
       "    <tr>\n",
       "      <th>2605</th>\n",
       "      <td>3</td>\n",
       "      <td>0</td>\n",
       "      <td>2</td>\n",
       "      <td>170</td>\n",
       "      <td>0</td>\n",
       "      <td>21</td>\n",
       "      <td>6</td>\n",
       "      <td>3</td>\n",
       "      <td>15</td>\n",
       "      <td>0</td>\n",
       "      <td>25</td>\n",
       "    </tr>\n",
       "    <tr>\n",
       "      <th>1392</th>\n",
       "      <td>6</td>\n",
       "      <td>2</td>\n",
       "      <td>1</td>\n",
       "      <td>465</td>\n",
       "      <td>1</td>\n",
       "      <td>27</td>\n",
       "      <td>6</td>\n",
       "      <td>1</td>\n",
       "      <td>30</td>\n",
       "      <td>17</td>\n",
       "      <td>45</td>\n",
       "    </tr>\n",
       "    <tr>\n",
       "      <th>8535</th>\n",
       "      <td>3</td>\n",
       "      <td>2</td>\n",
       "      <td>1</td>\n",
       "      <td>425</td>\n",
       "      <td>1</td>\n",
       "      <td>3</td>\n",
       "      <td>6</td>\n",
       "      <td>12</td>\n",
       "      <td>10</td>\n",
       "      <td>5</td>\n",
       "      <td>5</td>\n",
       "    </tr>\n",
       "  </tbody>\n",
       "</table>\n",
       "<p>2671 rows × 11 columns</p>\n",
       "</div>"
      ],
      "text/plain": [
       "      Airline  Source  Destination  Duration  Total_Stops  Journey_day  \\\n",
       "6075        6       2            1       625            2           21   \n",
       "3544        2       2            1       540            1            3   \n",
       "9291       10       3            0       765            1            9   \n",
       "5032        3       1            4       140            0           24   \n",
       "2483        4       2            1       335            1           21   \n",
       "...       ...     ...          ...       ...          ...          ...   \n",
       "3022        4       0            5       365            1           18   \n",
       "8416        1       2            1      1420            2            3   \n",
       "2605        3       0            2       170            0           21   \n",
       "1392        6       2            1       465            1           27   \n",
       "8535        3       2            1       425            1            3   \n",
       "\n",
       "      Journey_month  Arrival_hour  Arrival|_min  Dep_hour  Dep_min  \n",
       "6075              5             1            30        15        5  \n",
       "3544              6            19            35        10       35  \n",
       "9291              5             9             5        20       20  \n",
       "5032              5            17             5        14       45  \n",
       "2483              5             4            25        22       50  \n",
       "...             ...           ...           ...       ...      ...  \n",
       "3022              3            23             0        16       55  \n",
       "8416              3             9            25         9       45  \n",
       "2605              6             3            15         0       25  \n",
       "1392              6             1            30        17       45  \n",
       "8535              6            12            10         5        5  \n",
       "\n",
       "[2671 rows x 11 columns]"
      ]
     },
     "execution_count": 48,
     "metadata": {},
     "output_type": "execute_result"
    }
   ],
   "source": [
    "x_test"
   ]
  },
  {
   "cell_type": "code",
   "execution_count": 49,
   "id": "a67250f7",
   "metadata": {},
   "outputs": [
    {
     "data": {
      "text/plain": [
       "752      5054\n",
       "7430     5618\n",
       "5478    13044\n",
       "3445    14714\n",
       "9126    12373\n",
       "        ...  \n",
       "5734    12242\n",
       "5191    10844\n",
       "5390     7670\n",
       "860      6144\n",
       "7270    10262\n",
       "Name: Price, Length: 8011, dtype: int64"
      ]
     },
     "execution_count": 49,
     "metadata": {},
     "output_type": "execute_result"
    }
   ],
   "source": [
    "y_train"
   ]
  },
  {
   "cell_type": "code",
   "execution_count": 50,
   "id": "81488529",
   "metadata": {},
   "outputs": [
    {
     "data": {
      "text/plain": [
       "6075    16655\n",
       "3544     4959\n",
       "9291     9187\n",
       "5032     3858\n",
       "2483    12898\n",
       "        ...  \n",
       "3022    13555\n",
       "8416    12760\n",
       "2605     3419\n",
       "1392     5797\n",
       "8535     6818\n",
       "Name: Price, Length: 2671, dtype: int64"
      ]
     },
     "execution_count": 50,
     "metadata": {},
     "output_type": "execute_result"
    }
   ],
   "source": [
    "y_test"
   ]
  },
  {
   "cell_type": "markdown",
   "id": "6a32b645",
   "metadata": {},
   "source": [
    "### Importing the models"
   ]
  },
  {
   "cell_type": "code",
   "execution_count": 51,
   "id": "76db853f",
   "metadata": {},
   "outputs": [],
   "source": [
    "from sklearn.neighbors import KNeighborsRegressor\n",
    "from sklearn.tree import DecisionTreeRegressor\n",
    "from sklearn.ensemble import RandomForestRegressor\n",
    "from sklearn.metrics import r2_score,mean_absolute_error,mean_squared_error"
   ]
  },
  {
   "cell_type": "markdown",
   "id": "59041fc4",
   "metadata": {},
   "source": [
    "- The project focuses on predicting future flight prices using historical data. \n",
    "- We selected KNeighborsRegressor, DecisionTreeRegressor, and RandomForestRegressor algorithms for their capabilities in regression tasks, non-linear relationship handling. \n",
    "- The predictive model aims to assist customers in planning their journeys based on accurate price predictions.\n",
    "- That's why i continued with the models on the firsthand"
   ]
  },
  {
   "cell_type": "markdown",
   "id": "3b3a6f7c",
   "metadata": {},
   "source": [
    "**Creating a function to train the models with testing and training data**\n",
    "- Creating a function to train the model saves lot of time and to automate the training and testing process of the ML model"
   ]
  },
  {
   "cell_type": "code",
   "execution_count": 52,
   "id": "3598a7c8",
   "metadata": {},
   "outputs": [],
   "source": [
    "def predict(algorithm):\n",
    "    print('Algorithm:',algorithm)\n",
    "    model=algorithm.fit(x_train,y_train)\n",
    "    y_pred=model.predict(x_test)\n",
    "    print(\"The predicted Price Values are :\",y_pred)\n",
    "    print('\\n')\n",
    "    r2=r2_score(y_test,y_pred)\n",
    "    print('r2_score:',r2)\n",
    "    print('MAE:',(mean_absolute_error(y_test,y_pred)))\n",
    "    print('MSE:',(mean_squared_error(y_test,y_pred)))\n",
    "    print('RMSE:',(np.sqrt(mean_squared_error(y_test,y_pred))))\n",
    "    return r2"
   ]
  },
  {
   "cell_type": "markdown",
   "id": "3fa66807",
   "metadata": {},
   "source": [
    "**KNeighborsRegressor**"
   ]
  },
  {
   "cell_type": "code",
   "execution_count": 53,
   "id": "8fbaf720",
   "metadata": {},
   "outputs": [
    {
     "name": "stdout",
     "output_type": "stream",
     "text": [
      "Algorithm: KNeighborsRegressor()\n",
      "The predicted Price Values are : [16315.   5158.2  8536.  ...  3653.4 11656.4  9908.4]\n",
      "\n",
      "\n",
      "r2_score: 0.5551976104541892\n",
      "MAE: 1835.9627105952827\n",
      "MSE: 9168723.406754024\n",
      "RMSE: 3027.989994493711\n"
     ]
    }
   ],
   "source": [
    "knn=predict(KNeighborsRegressor())"
   ]
  },
  {
   "cell_type": "markdown",
   "id": "428ae7c5",
   "metadata": {},
   "source": [
    "**DecisionTreeRegressor**"
   ]
  },
  {
   "cell_type": "code",
   "execution_count": 54,
   "id": "25a00be6",
   "metadata": {},
   "outputs": [
    {
     "name": "stdout",
     "output_type": "stream",
     "text": [
      "Algorithm: DecisionTreeRegressor()\n",
      "The predicted Price Values are : [16840.  4959.  9397. ...  3419.  5797.  6818.]\n",
      "\n",
      "\n",
      "r2_score: 0.6026295106654528\n",
      "MAE: 1402.12582678148\n",
      "MSE: 8191008.394615936\n",
      "RMSE: 2861.993779625654\n"
     ]
    }
   ],
   "source": [
    "dt=predict(DecisionTreeRegressor())"
   ]
  },
  {
   "cell_type": "markdown",
   "id": "b988e9fe",
   "metadata": {},
   "source": [
    "**RandomForestRegressor**"
   ]
  },
  {
   "cell_type": "code",
   "execution_count": 55,
   "id": "df29b095",
   "metadata": {},
   "outputs": [
    {
     "name": "stdout",
     "output_type": "stream",
     "text": [
      "Algorithm: RandomForestRegressor()\n",
      "The predicted Price Values are : [16750.31  5428.29  8811.29 ...  3480.27  6421.13  6879.77]\n",
      "\n",
      "\n",
      "r2_score: 0.8064802355791537\n",
      "MAE: 1159.5291138891994\n",
      "MSE: 3989028.016523723\n",
      "RMSE: 1997.2551205401185\n"
     ]
    }
   ],
   "source": [
    "rf=predict(RandomForestRegressor())"
   ]
  },
  {
   "cell_type": "markdown",
   "id": "8659d7e6",
   "metadata": {},
   "source": [
    "**Storing the accuracies of these 3 models in a dataframe** "
   ]
  },
  {
   "cell_type": "code",
   "execution_count": 56,
   "id": "686fc8c7",
   "metadata": {
    "scrolled": true
   },
   "outputs": [
    {
     "data": {
      "text/html": [
       "<div>\n",
       "<style scoped>\n",
       "    .dataframe tbody tr th:only-of-type {\n",
       "        vertical-align: middle;\n",
       "    }\n",
       "\n",
       "    .dataframe tbody tr th {\n",
       "        vertical-align: top;\n",
       "    }\n",
       "\n",
       "    .dataframe thead th {\n",
       "        text-align: right;\n",
       "    }\n",
       "</style>\n",
       "<table border=\"1\" class=\"dataframe\">\n",
       "  <thead>\n",
       "    <tr style=\"text-align: right;\">\n",
       "      <th></th>\n",
       "      <th>Model</th>\n",
       "      <th>Accuracy</th>\n",
       "    </tr>\n",
       "  </thead>\n",
       "  <tbody>\n",
       "    <tr>\n",
       "      <th>0</th>\n",
       "      <td>K-Nearest Neighbour</td>\n",
       "      <td>55.519761</td>\n",
       "    </tr>\n",
       "    <tr>\n",
       "      <th>1</th>\n",
       "      <td>Decision Tree</td>\n",
       "      <td>60.262951</td>\n",
       "    </tr>\n",
       "    <tr>\n",
       "      <th>2</th>\n",
       "      <td>Random Foret</td>\n",
       "      <td>80.648024</td>\n",
       "    </tr>\n",
       "  </tbody>\n",
       "</table>\n",
       "</div>"
      ],
      "text/plain": [
       "                 Model   Accuracy\n",
       "0  K-Nearest Neighbour  55.519761\n",
       "1        Decision Tree  60.262951\n",
       "2         Random Foret  80.648024"
      ]
     },
     "execution_count": 56,
     "metadata": {},
     "output_type": "execute_result"
    }
   ],
   "source": [
    "df_score=pd.DataFrame({'Model':['K-Nearest Neighbour','Decision Tree','Random Foret'],'Accuracy':[knn*100,dt*100,rf*100]})\n",
    "df_score"
   ]
  },
  {
   "cell_type": "markdown",
   "id": "8dc175c7",
   "metadata": {},
   "source": [
    "- The Random Forest Regresor Model turned out to be the most accurate one out of these 3 models\n",
    "- we can improve it by Hyperparameter Tuning"
   ]
  },
  {
   "cell_type": "markdown",
   "id": "b29a2d7b",
   "metadata": {},
   "source": [
    "### Hyperparameter Tuning"
   ]
  },
  {
   "cell_type": "code",
   "execution_count": 57,
   "id": "35c320fd",
   "metadata": {},
   "outputs": [
    {
     "name": "stdout",
     "output_type": "stream",
     "text": [
      "Fitting 3 folds for each of 10 candidates, totalling 30 fits\n"
     ]
    },
    {
     "data": {
      "text/plain": [
       "RandomizedSearchCV(cv=3, estimator=RandomForestRegressor(), n_jobs=-1,\n",
       "                   param_distributions={'max_depth': [5, 10, 15, 20],\n",
       "                                        'max_features': ['auto', 'sqrt'],\n",
       "                                        'min_samples_leaf': [1, 2, 5, 10],\n",
       "                                        'min_samples_split': [2, 5, 10, 15,\n",
       "                                                              100],\n",
       "                                        'n_estimators': [100, 120, 150, 180,\n",
       "                                                         200, 220, 250]},\n",
       "                   random_state=0, verbose=2)"
      ]
     },
     "execution_count": 57,
     "metadata": {},
     "output_type": "execute_result"
    }
   ],
   "source": [
    "from sklearn.model_selection import RandomizedSearchCV\n",
    "random_search = {'n_estimators' : [100, 120, 150, 180, 200,220,250],\n",
    "                 'max_features':['auto','sqrt'],\n",
    "                 'max_depth':[5,10,15,20],\n",
    "                 'min_samples_split' : [2, 5, 10, 15, 100],\n",
    "                 'min_samples_leaf' : [1, 2, 5, 10]}\n",
    "rf_regressor=RandomForestRegressor()\n",
    "rf_model=RandomizedSearchCV(estimator=rf_regressor,param_distributions=random_search,\n",
    "                            cv=3,n_jobs=-1,verbose=2,random_state=0)\n",
    "rf_model.fit(x_train,y_train)"
   ]
  },
  {
   "cell_type": "markdown",
   "id": "9872df08",
   "metadata": {},
   "source": [
    "**Getting the best_params**"
   ]
  },
  {
   "cell_type": "code",
   "execution_count": 58,
   "id": "977b6b21",
   "metadata": {},
   "outputs": [
    {
     "data": {
      "text/plain": [
       "{'n_estimators': 220,\n",
       " 'min_samples_split': 2,\n",
       " 'min_samples_leaf': 2,\n",
       " 'max_features': 'auto',\n",
       " 'max_depth': 15}"
      ]
     },
     "execution_count": 58,
     "metadata": {},
     "output_type": "execute_result"
    }
   ],
   "source": [
    "rf_model.best_params_"
   ]
  },
  {
   "cell_type": "code",
   "execution_count": 64,
   "id": "6a7b6cb8",
   "metadata": {},
   "outputs": [
    {
     "name": "stderr",
     "output_type": "stream",
     "text": [
      "C:\\Users\\THENDRAL\\anaconda3\\lib\\site-packages\\sklearn\\model_selection\\_search.py:292: UserWarning: The total space of parameters 2 is smaller than n_iter=10. Running 2 iterations. For exhaustive searches, use GridSearchCV.\n",
      "  warnings.warn(\n"
     ]
    },
    {
     "name": "stdout",
     "output_type": "stream",
     "text": [
      "Fitting 3 folds for each of 2 candidates, totalling 6 fits\n"
     ]
    },
    {
     "data": {
      "text/plain": [
       "RandomizedSearchCV(cv=3, estimator=RandomForestRegressor(), n_jobs=-1,\n",
       "                   param_distributions={'max_depth': [15],\n",
       "                                        'max_features': ['auto', 'sqrt'],\n",
       "                                        'min_samples_leaf': [2],\n",
       "                                        'min_samples_split': [2],\n",
       "                                        'n_estimators': [220]},\n",
       "                   random_state=0, verbose=2)"
      ]
     },
     "execution_count": 64,
     "metadata": {},
     "output_type": "execute_result"
    }
   ],
   "source": [
    "random_search = {'n_estimators' : [220],\n",
    "                 'max_features':['auto','sqrt'],\n",
    "                 'max_depth':[15],\n",
    "                 'min_samples_split' : [2],\n",
    "                 'min_samples_leaf' : [2]}\n",
    "rf_regressor=RandomForestRegressor()\n",
    "rf_model=RandomizedSearchCV(estimator=rf_regressor,param_distributions=random_search,\n",
    "                            cv=3,n_jobs=-1,verbose=2,random_state=0)\n",
    "rf_model.fit(x_train,y_train)"
   ]
  },
  {
   "cell_type": "code",
   "execution_count": 65,
   "id": "f1c1ac14",
   "metadata": {},
   "outputs": [
    {
     "data": {
      "text/plain": [
       "0.8212015148209404"
      ]
     },
     "execution_count": 65,
     "metadata": {},
     "output_type": "execute_result"
    }
   ],
   "source": [
    "# predicting the  values\n",
    "pred=rf_model.predict(x_test)\n",
    "r2_score(y_test,pred)"
   ]
  },
  {
   "cell_type": "code",
   "execution_count": 66,
   "id": "910a5119",
   "metadata": {
    "scrolled": true
   },
   "outputs": [
    {
     "name": "stdout",
     "output_type": "stream",
     "text": [
      "r2_score: 0.8212015148209404\n",
      "MAE: 1119.2937274261892\n",
      "MSE: 3685577.898597523\n",
      "RMSE: 1919.7858991558207\n"
     ]
    }
   ],
   "source": [
    "print('r2_score:',r2_score(y_test,pred))\n",
    "print('MAE:', mean_absolute_error(y_test, pred))\n",
    "print('MSE:', mean_squared_error(y_test, pred))\n",
    "print('RMSE:', np.sqrt(mean_squared_error(y_test, pred)))"
   ]
  },
  {
   "cell_type": "markdown",
   "id": "588f82da",
   "metadata": {},
   "source": [
    "- After HyperparameterTuning R2 score increases \n",
    "- MAE & MSE decreases, it indicates that we are successfull in tuning our model"
   ]
  },
  {
   "cell_type": "markdown",
   "id": "d00d3168",
   "metadata": {},
   "source": [
    "- From Random Forest regressor for training the model and improved its accuracy by doing Hyperparqameter tuning\n",
    "- We have trained our Random Forest Regresion model, to forecast the fares of flight prices, with an R2 score 0f 82%"
   ]
  },
  {
   "cell_type": "markdown",
   "id": "c46fab77",
   "metadata": {},
   "source": [
    "### Saving the model in Pickle format"
   ]
  },
  {
   "cell_type": "code",
   "execution_count": 67,
   "id": "dc50c4cb",
   "metadata": {},
   "outputs": [],
   "source": [
    "import pickle\n",
    "file=open('flight_pred1.2.pkl','wb')\n",
    "pickle.dump(rf_model,file)"
   ]
  },
  {
   "cell_type": "code",
   "execution_count": 68,
   "id": "1f1740db",
   "metadata": {},
   "outputs": [],
   "source": [
    "model=open('flight_pred1.2.pkl','rb')\n",
    "random_forest=pickle.load(model)"
   ]
  },
  {
   "cell_type": "code",
   "execution_count": 69,
   "id": "09827924",
   "metadata": {},
   "outputs": [
    {
     "name": "stdout",
     "output_type": "stream",
     "text": [
      "The predicted prices are [16647.29296717  5189.41192641  8663.52072454 ...  3796.08464749\n",
      "  6750.70242923  6825.71559243]\n",
      "r2 score =  0.8212015148209404\n"
     ]
    }
   ],
   "source": [
    "result=random_forest.predict(x_test)\n",
    "print(\"The predicted prices are\",result)\n",
    "print(\"r2 score = \",r2_score(y_test,result))"
   ]
  },
  {
   "cell_type": "markdown",
   "id": "228d933e",
   "metadata": {},
   "source": [
    "### Analysis \n",
    "   The project aimed to predict future flight prices using machine learning models. Three regression models, including K-Nearest Neighbors (KNN), Decision Tree (DT), and Random Forest (RF), were evaluated using evaluation metrics such as R2 score, MAE, MSE, and RMSE. The hyperparameter-tuned Random Forest (HT RF) outperformed the other models, achieving the highest accuracy and the lowest prediction errors, making it the recommended model for flight price prediction. Further improvements can be made by exploring real-time data, user preferences, Ensemble methods, Specific models for specific regions, Seasonal(holidays)and time-specific data, Dynamic pricing, Human-in-loop, and User Input on specific needs to enhance model accuracy and user experience.\n"
   ]
  },
  {
   "cell_type": "markdown",
   "id": "3140376f",
   "metadata": {},
   "source": [
    "## Conclusion:"
   ]
  },
  {
   "cell_type": "markdown",
   "id": "c53645bd",
   "metadata": {},
   "source": [
    "- We have used random forest regressor for training the model and improved its accuracy by doing hyperparameter tuning.\n",
    "- As a result, we have trained our Random Forest Regression model, to forecast fares of flight tickets, with an R2 score of 80 %.\n",
    "- After Hyperparametertuning, we get R2 score of 82% for Random Forest Regression model.\n",
    "- We can implement the model into production to predict the fuure price of the tickets\n"
   ]
  },
  {
   "cell_type": "markdown",
   "id": "b96be39e",
   "metadata": {},
   "source": [
    "### Model Comparison Report: Predicting Flight Prices\n",
    "\n",
    "1. **Introduction**:\n",
    "   - Problem Statement: The objective of this study is to predict future flight prices to help customers plan their journeys effectively.\n",
    "   \n",
    "2. **Dataset Information**:\n",
    "   - The dataset contains historical flight price data for the year 2019.\n",
    "   - Number of Samples: 10682\n",
    "   - Number of Features: 11\n",
    "   - Target Variable: Flight Prices\n",
    "\n",
    "\n",
    "3. **Model Selection**:\n",
    "   - KNeighborsRegressor\n",
    "   - DecisionTreeRegressor\n",
    "   - RandomForestRegressor\n",
    "\n",
    "4. **Model Evaluation Metrics**:\n",
    "   - Mean Absolute Error (MAE)\n",
    "   - Mean Squared Error (MSE)\n",
    "   - Root Mean Squared Error (RMSE)\n",
    "\n",
    "5.**Results**:\n",
    "   - Model 1 (**KNeighborsRegressor**):\n",
    "     - MAE: 1835.9627105952827\n",
    "     - MSE: 8007983.122980159\n",
    "     - RMSE: 3027.989994493711\n",
    "     - r2_score:0.5551976104541892\n",
    "\n",
    "        \n",
    "   - Model 2 (**DecisionTreeRegressor**):\n",
    "     - MAE:1402.12582678148\n",
    "     - MSE:8191008.394615936\n",
    "     - RMSE: : 2261.7228600660496\n",
    "     - r2_score: 2861.993779625654\n",
    "\n",
    "        \n",
    "   - Model 3 (**RandomForestRegressor**):\n",
    "     - MAE: 1159.5291138891994\n",
    "     - MSE 3989028.016523723\n",
    "     - RMSE:1997.2551205401185\n",
    "     - r2_score: 0.8064802355791537\n",
    "     \n",
    "6. **Hyper parameter Tuning**(**RandomForestRegressor**):\n",
    "     - MAE: 1119.2937274261892\n",
    "     - MSE:3685577.898597523\n",
    "     - RMSE: 1919.7858991558207\n",
    "     - r2_score: 0.8212015148209404\n",
    "\n",
    "7.**Future Improvements:** \n",
    "   - Real-time data\n",
    "   - Ensemble methods\n",
    "   - Specific models for specific regions\n",
    "   - Seasonal(holidays)and time-specific data\n",
    "   - Dynamic pricing\n",
    "   - Human-in-loop\n",
    "   - User Input on specific Needs          \n",
    "    \n",
    "\n",
    "8. **Conclusion**:\n",
    "   - Based on the evaluation results, the RandomForestRegressor is recommended for predicting flight prices.\n",
    "  \n",
    "   - Limitations: \n",
    "         - Data Availability and Quality\n",
    "         - Assumptions and Simplifications\n",
    "         - Dynamic Nature of Airline Industry \n",
    "         - Geographical Variability\n",
    "         - Overfitting or Underfitting\n",
    "\n",
    "   \n",
    "\n",
    "\n"
   ]
  },
  {
   "cell_type": "markdown",
   "id": "d4d112fc",
   "metadata": {},
   "source": [
    "### Challenges Faced In the Project"
   ]
  },
  {
   "cell_type": "markdown",
   "id": "3b09ad4d",
   "metadata": {},
   "source": [
    "- **Data from a specific time-period and specific regions:**\n",
    "   - This dataset contains only 2019 flight data,this may result in incorrect prediction for the future data\n",
    "   - This dataset contains only for 6 or 7 seven major cities in India, so predicting the prices for other cities in india cannot be possible(or) in correct predictions\n",
    "- **Lot of work in the Feature Engineering**\n",
    "    - I have to extract data from the existing features and converting them into new features \n",
    "    - Once we extracted the new data from the old features we have to drop the old features because the new data represents the old feature.This has to be done correctly or there will be incorrect data.\n",
    "- **Outlier detection**\n",
    "     - Flight frices are quite tricky to predict,they can be  so low with a discounted price or economy class and can be so high with premimum class  tickets\n",
    "     - So,i didnt do any outlier detection and outlier removal .\n",
    "- **Model Selection**\n",
    "     - Flight prices are continuous numerical values that can take a wide range of numeric values. In regression, the target variable is continuous, and the goal is to predict a numerical value.On the other hand, classifier represents discrete categories likes(\"Yes\"or\"No\",\"High\"\",\"Medium\"or\"Low\").\n",
    "     - Using a regressor allows us to measure the accuracy of predictions using common regression evaluation metrics like Mean Absolute Error (MAE), Mean Squared Error (MSE), and Root Mean Squared Error (RMSE).\n",
    "- **Domain knowledge:**\n",
    "   - I know only a little about the airline, there are so much factors detemine the prices of the airline ticket.\n",
    "        - Type of ticket:\n",
    "             - Economy\n",
    "             - Premium Economy\n",
    "             - Buisness Class\n",
    "             - First Class\n",
    "        - Total Stops\n",
    "        - Route\n",
    "        - Duration\n",
    "        - Airline \n",
    "\n",
    "   - In this project there is only a limited amount of data for a specific region, so grasping the data is not that tough but having data from all over the world can be quite tricky.\n"
   ]
  },
  {
   "cell_type": "code",
   "execution_count": null,
   "id": "583cc110",
   "metadata": {},
   "outputs": [],
   "source": []
  }
 ],
 "metadata": {
  "kernelspec": {
   "display_name": "Python 3 (ipykernel)",
   "language": "python",
   "name": "python3"
  },
  "language_info": {
   "codemirror_mode": {
    "name": "ipython",
    "version": 3
   },
   "file_extension": ".py",
   "mimetype": "text/x-python",
   "name": "python",
   "nbconvert_exporter": "python",
   "pygments_lexer": "ipython3",
   "version": "3.9.13"
  }
 },
 "nbformat": 4,
 "nbformat_minor": 5
}
